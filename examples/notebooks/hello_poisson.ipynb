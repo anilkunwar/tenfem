{
 "cells": [
  {
   "cell_type": "code",
   "execution_count": 1,
   "metadata": {},
   "outputs": [],
   "source": [
    "import tensorflow as tf\n",
    "import tenfem\n",
    "import matplotlib.pyplot as plt\n",
    "from matplotlib.collections import LineCollection\n",
    "\n",
    "from tenfem.layers import AssembleStiffnessMatrix"
   ]
  },
  {
   "cell_type": "markdown",
   "metadata": {},
   "source": [
    "## The `TriangleMesh` object"
   ]
  },
  {
   "cell_type": "code",
   "execution_count": 2,
   "metadata": {},
   "outputs": [
    {
     "data": {
      "image/png": "[encoded data removed]",
      "text/plain": [
       "<Figure size 432x288 with 1 Axes>"
      ]
     },
     "metadata": {
      "needs_background": "light"
     },
     "output_type": "display_data"
    }
   ],
   "source": [
    "mesh = tenfem.mesh.examples.square(8, 8)\n",
    "\n",
    "fig, ax = plt.subplots()\n",
    "ax.triplot(mesh._triang)\n",
    "\n",
    "ax.add_collection(\n",
    "    LineCollection(tf.gather(mesh.nodes, mesh.boundary_elements), colors='k', label='$\\partial \\Omega$'))\n",
    "ax.legend(fontsize=14)\n",
    "ax.set_aspect('equal'); ax.axis('off')\n",
    "for method in [ax.set_xlim, ax.set_ylim]:\n",
    "    method((-0.1, 1.1))\n",
    "\n",
    "plt.show()"
   ]
  },
  {
   "cell_type": "markdown",
   "metadata": {},
   "source": [
    "## The `reference_element` \n",
    "\n",
    "The mesh above is a `tenfem.mesh.TriangleMesh` object, one of the most beautiful\n",
    "aspects of the Finite Element Method is that the problem over the domain $\\Omega$\n",
    "is divided first into \"physical elements\" -- our triangles in the mesh above, and\n",
    "then in terms of each of these physical elements to a single canonical \n",
    "`reference_element`, and also specify a bijection between the physical elements\n",
    "and the canonical element.\n",
    "\n",
    "One of the most important ways this manifests is that whenever we are doing integration\n",
    "over a physical element, we parameterise in terms of coordinates of the reference element,\n",
    "and in practice specify integrations by quadratures over the reference element. Once\n",
    "we have specified a quadrature order, all of the callable components of our model will be\n",
    "queried for values at these quadrature nodes, so lets inspect them."
   ]
  },
  {
   "cell_type": "code",
   "execution_count": 3,
   "metadata": {},
   "outputs": [
    {
     "data": {
      "image/png": "[encoded data removed]",
      "text/plain": [
       "<Figure size 432x288 with 1 Axes>"
      ]
     },
     "metadata": {
      "needs_background": "light"
     },
     "output_type": "display_data"
    }
   ],
   "source": [
    "lin_tri_element = tenfem.reference_elements.TriangleElement(degree=1)\n",
    "quadrature_nodes = lin_tri_element.get_quadrature_nodes(mesh)\n",
    "\n",
    "fig, ax = plt.subplots()\n",
    "ax.triplot(mesh._triang)\n",
    "ax.set_aspect('equal'); ax.axis('off')\n",
    "\n",
    "ax.plot(*tf.reshape(quadrature_nodes, [-1, 2]).numpy().T, \n",
    "        'o', markeredgecolor='k', label='quadrature nodes')\n",
    "ax.add_collection(\n",
    "    LineCollection(tf.gather(mesh.nodes, mesh.boundary_elements), colors='k', label='$\\partial \\Omega$'))\n",
    "ax.legend(fontsize=14)\n",
    "\n",
    "for method in [ax.set_xlim, ax.set_ylim]:\n",
    "    method((0.49, 1.1))\n",
    "plt.show()"
   ]
  },
  {
   "cell_type": "markdown",
   "metadata": {},
   "source": [
    "## `AssembleStiffnessMatrix`"
   ]
  },
  {
   "cell_type": "code",
   "execution_count": 4,
   "metadata": {},
   "outputs": [],
   "source": [
    "diffusion_coefficient = lambda x: tf.ones_like(x)[..., 0]\n",
    "mesh_tensor_repr = mesh.get_tensor_repr()\n",
    "\n",
    "stiffness_matrix = AssembleStiffnessMatrix(diffusion_coefficient,\n",
    "                                           reference_element=lin_tri_element)(mesh_tensor_repr)"
   ]
  },
  {
   "cell_type": "code",
   "execution_count": 5,
   "metadata": {},
   "outputs": [
    {
     "ename": "AttributeError",
     "evalue": "'tensorflow.python.framework.ops.EagerTensor' object has no attribute 'reference_element'",
     "output_type": "error",
     "traceback": [
      "\u001b[0;31m---------------------------------------------------------------------------\u001b[0m",
      "\u001b[0;31mAttributeError\u001b[0m                            Traceback (most recent call last)",
      "\u001b[0;32m<ipython-input-5-5e7660769174>\u001b[0m in \u001b[0;36m<module>\u001b[0;34m\u001b[0m\n\u001b[0;32m----> 1\u001b[0;31m \u001b[0mstiffness_matrix\u001b[0m\u001b[0;34m.\u001b[0m\u001b[0mreference_element\u001b[0m\u001b[0;34m\u001b[0m\u001b[0;34m\u001b[0m\u001b[0m\n\u001b[0m",
      "\u001b[0;31mAttributeError\u001b[0m: 'tensorflow.python.framework.ops.EagerTensor' object has no attribute 'reference_element'"
     ]
    }
   ],
   "source": [
    "stiffness_matrix.reference_element"
   ]
  },
  {
   "cell_type": "code",
   "execution_count": null,
   "metadata": {},
   "outputs": [],
   "source": []
  }
 ],
 "metadata": {
  "kernelspec": {
   "display_name": "Python (tenfem)",
   "language": "python",
   "name": "tenfem"
  },
  "language_info": {
   "codemirror_mode": {
    "name": "ipython",
    "version": 3
   },
   "file_extension": ".py",
   "mimetype": "text/x-python",
   "name": "python",
   "nbconvert_exporter": "python",
   "pygments_lexer": "ipython3",
   "version": "3.7.6"
  }
 },
 "nbformat": 4,
 "nbformat_minor": 4
}
