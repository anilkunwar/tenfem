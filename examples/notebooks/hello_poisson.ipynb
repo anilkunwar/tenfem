{
 "cells": [
  {
   "cell_type": "markdown",
   "metadata": {},
   "source": [
    "# Introduction\n",
    "\n",
    "In this note we \n",
    "\n",
    "* Demonstrate the basic steps needed to set up the Poisson problem\n",
    "* Solve the problem \n",
    "* Demonstrate how these steps can be put inside the `tf.keras` functional API"
   ]
  },
  {
   "cell_type": "code",
   "execution_count": 1,
   "metadata": {},
   "outputs": [],
   "source": [
    "import numpy as np\n",
    "import tensorflow as tf\n",
    "tf.keras.backend.set_floatx('float64')\n",
    "import tenfem\n",
    "import matplotlib.pyplot as plt\n",
    "from matplotlib.collections import LineCollection\n",
    "from matplotlib.tri import Triangulation\n",
    "from tenfem.layers import (AssembleStiffnessMatrix, AssembleLoadVector, SolveDirichletProblem,\n",
    "                           TriangleMeshInterpolator)\n",
    "\n",
    "tf_dtype = tf.float64\n",
    "tfk = tf.keras\n",
    "tfkl = tf.keras.layers"
   ]
  },
  {
   "cell_type": "markdown",
   "metadata": {},
   "source": [
    "# The Poisson Problem\n",
    "\n",
    "The Poisson problem is to PDE problems, and the FEM, what `Hello, world` is to coding exercises. Mathematically\n",
    "we are interested in the following *boundary value problem*\n",
    "\n",
    "$$\n",
    "\\begin{align}\n",
    "    -\\Delta u(x) = f(x), \\qquad x \\in \\Omega \\tag{1a} \\\\  \n",
    "    u(x) = u_{D}(x) \\qquad x \\mbox{ on } \\partial\\Omega. \\tag{1b}\n",
    "\\end{align}\n",
    "$$\n",
    "\n",
    "The goal is to find the unknown function $u(x)$ which solves this problem, that is for any $x$ inside\n",
    "the domain $\\Omega$ we satisfy (1a), and for any $x$ on the boundary $\\partial \\Omega$ we satisfy \n",
    "(1b). Here the boundary condition specified by the function $u_{D}$ is referred to as a Dirichlet\n",
    "boundary condition, and the function $f(x)$ is typically referred to as the source or sink function.\n",
    "\n",
    "If we want to implement such a problem then we need to specify our domain $\\Omega$, and so this is where \n",
    "we go next."
   ]
  },
  {
   "cell_type": "markdown",
   "metadata": {},
   "source": [
    "## A `TriangleMesh` of $\\Omega$\n",
    "\n",
    "All of the domains will be specifed by decomising a subset $\\Omega \\subset \\mathbb{R}^D$ into a collection\n",
    "of disjoint polygonal regions sharing edges -- the eponymous *elements* of the finite element method. Below\n",
    "we show an example which contains a regular tesselation of the unit square $\\Omega = [0, 1] \\times [0, 1]$ \n",
    "by triangle elements, this is an instance of a `tenfem.mesh.TriangleMesh` object."
   ]
  },
  {
   "cell_type": "code",
   "execution_count": 2,
   "metadata": {},
   "outputs": [
    {
     "data": {
      "image/png": "[encoded data removed]",
      "text/plain": [
       "<Figure size 432x288 with 1 Axes>"
      ]
     },
     "metadata": {
      "needs_background": "light"
     },
     "output_type": "display_data"
    }
   ],
   "source": [
    "mesh = tenfem.mesh.examples.square(8, 8, dtype=tf_dtype)\n",
    "\n",
    "fig, ax = plt.subplots()\n",
    "ax.triplot(mesh._triang)\n",
    "\n",
    "ax.add_collection(\n",
    "    LineCollection(tf.gather(mesh.nodes, mesh.boundary_elements), colors='k', label='$\\partial \\Omega$'))\n",
    "ax.legend(fontsize=14)\n",
    "ax.set_aspect('equal'); ax.axis('off')\n",
    "for method in [ax.set_xlim, ax.set_ylim]:\n",
    "    method((-0.1, 1.1))\n",
    "\n",
    "plt.show()"
   ]
  },
  {
   "cell_type": "markdown",
   "metadata": {},
   "source": [
    "One of the beautiful aspects of the Finite Element Method is that while the original problem \n",
    "over the domain $\\Omega$ is specified in terms of the \"physical elements\" -- our triangles \n",
    "in the mesh above. We solve the equation by considering each of these physical elements as\n",
    "a transformation of a single canonical *reference element*, with a bijection between the \n",
    "physical elements and the canonical element, this abstraction is encapsulated by the \n",
    "`tenfem.reference_element.BaseReferenceElement` class."
   ]
  },
  {
   "cell_type": "markdown",
   "metadata": {},
   "source": [
    "## `AssembleStiffnessMatrix`"
   ]
  },
  {
   "cell_type": "code",
   "execution_count": 3,
   "metadata": {},
   "outputs": [],
   "source": [
    "lin_tri_element = tenfem.reference_elements.TriangleElement(degree=1, dtype=tf_dtype)\n",
    "mesh = tenfem.mesh.examples.square(16, 16, dtype=tf_dtype)  # lets make a higher res mesh to see the solution\n",
    "\n",
    "diffusion_coefficient = lambda x: tf.ones_like(x)[..., 0]\n",
    "source = lambda x: -6. * tf.ones_like(x)[..., 0]\n",
    "ud = lambda x: (1 + x[...,0]**2 + 2. * x[..., 1]**2)[..., tf.newaxis]\n",
    "\n",
    "def solve(mesh, element):\n",
    "    mesh_tensor_repr = mesh.get_tensor_repr()\n",
    "\n",
    "    stiffness_matrix = AssembleStiffnessMatrix(diffusion_coefficient,\n",
    "                                               reference_element=element)(mesh_tensor_repr)\n",
    "    load_vector = AssembleLoadVector(source,\n",
    "                                     reference_element=element)(mesh_tensor_repr)\n",
    "    node_types = mesh_tensor_repr[-1]\n",
    "    boundary_values = ud(tf.gather_nd(mesh.nodes, tf.where(node_types == 1)))\n",
    "\n",
    "    return tenfem.fem.solve_dirichlet_form_linear_system(\n",
    "        stiffness_matrix[0], load_vector[0], node_types, boundary_values)"
   ]
  },
  {
   "cell_type": "code",
   "execution_count": 4,
   "metadata": {},
   "outputs": [],
   "source": [
    "solution = solve(mesh, lin_tri_element)\n",
    "solution_exact = ud(mesh.nodes)\n",
    "\n",
    "err = np.max(np.abs(solution - solution_exact))"
   ]
  },
  {
   "cell_type": "code",
   "execution_count": 5,
   "metadata": {},
   "outputs": [
    {
     "data": {
      "image/png": "[encoded data removed]",
      "text/plain": [
       "<Figure size 720x432 with 3 Axes>"
      ]
     },
     "metadata": {
      "needs_background": "light"
     },
     "output_type": "display_data"
    }
   ],
   "source": [
    "fig, axes = plt.subplots(ncols=3, figsize=(10, 6))\n",
    "\n",
    "axes[0].tricontourf(mesh._triang, solution[:, 0], levels=20)\n",
    "axes[1].tricontourf(mesh._triang, ud(mesh.nodes)[:, 0], levels=20)\n",
    "axes[2].tricontourf(mesh._triang, np.abs(solution[:, 0] - solution_exact[:, 0]))\n",
    "\n",
    "titles = ['Numerical', 'Exact', 'Abs. Error (max = {:.2e})'.format(err)]\n",
    "\n",
    "for i, ax in enumerate(axes):\n",
    "    ax.add_collection(\n",
    "        LineCollection(tf.gather(mesh.nodes, mesh.boundary_elements), colors='k', label='$\\partial \\Omega$'))\n",
    "    ax.set_aspect('equal'); ax.axis('off')\n",
    "    for method in [ax.set_xlim, ax.set_ylim]:\n",
    "        method((-0.1, 1.1))\n",
    "    ax.set_title(titles[i])\n",
    "\n",
    "plt.show()"
   ]
  },
  {
   "cell_type": "markdown",
   "metadata": {},
   "source": [
    "For statistical applications and error of the magnitude above might be acceptable,\n",
    "however this is less likely to be the case in engineering applications! How can\n",
    "we decrease this error? One option is to specify a mesh with a finder resolution,\n",
    "alternatively we can try and perform the numerical quadratures more accurately.\n",
    "\n",
    "One of the most important ways this manifests is that whenever we are doing integration\n",
    "over a physical element, we parameterise in terms of coordinates of the reference element,\n",
    "and in practice specify integrations by quadratures over the reference element. Once\n",
    "we have specified a quadrature order, all of the callable components of our model will be\n",
    "queried for values at these quadrature nodes, so lets inspect them.\n",
    "\n",
    "We provide a utility function to convert a standard triangular mesh to one suitable\n",
    "for degree 2 basis functions in the `tenfem.mesh.triangle.convert_linear_to_quadratic`\n",
    "function, and we use this to increase the degree of our approximations on the mesh, and\n",
    "so we will also have to change the degree of the `TriangleElement` reference element\n",
    "we are using."
   ]
  },
  {
   "cell_type": "code",
   "execution_count": 6,
   "metadata": {},
   "outputs": [
    {
     "data": {
      "image/png": "[encoded data removed]",
      "text/plain": [
       "<Figure size 576x432 with 2 Axes>"
      ]
     },
     "metadata": {
      "needs_background": "light"
     },
     "output_type": "display_data"
    }
   ],
   "source": [
    "quad_mesh = tenfem.mesh.triangle.convert_linear_to_quadratic(mesh)\n",
    "quad_tri_element = tenfem.reference_elements.TriangleElement(degree=2, dtype=tf_dtype)\n",
    "\n",
    "elements = [lin_tri_element, quad_tri_element]\n",
    "meshes = [mesh, quad_mesh]\n",
    "\n",
    "fig, axes = plt.subplots(ncols=2, figsize=(8, 6))\n",
    "for i, ax in enumerate(axes):\n",
    "\n",
    "    quadrature_nodes = elements[i].get_quadrature_nodes(meshes[i])\n",
    "\n",
    "    ax.triplot(mesh._triang)\n",
    "\n",
    "    ax.plot(*tf.reshape(quadrature_nodes, [-1, 2]).numpy().T, \n",
    "            'o', markeredgecolor='k', label='quadrature nodes' if i == 0 else None)\n",
    "    ax.add_collection(\n",
    "        LineCollection(tf.gather(mesh.nodes, mesh.boundary_elements), colors='k'))\n",
    "\n",
    "    if i == 0:\n",
    "        ax.legend(fontsize=14, loc='lower left')\n",
    "\n",
    "    ax.set_aspect('equal'); ax.axis('off')\n",
    "    for method in [ax.set_xlim, ax.set_ylim]:\n",
    "        method((0.83, 1.01))\n",
    "        \n",
    "    ax.set_title('Degree = {}'.format(i+1))\n",
    "plt.show()"
   ]
  },
  {
   "cell_type": "markdown",
   "metadata": {},
   "source": [
    "We can see that the actualy number of elements hasn't changed, but\n",
    "that while before we approximated each one with 3 quadrature nodes\n",
    "we now use 6. As such the total number of nodes over which we need\n",
    "to solve the FEM problem has increased. \n",
    "\n",
    "Now that we have increase the degree of our basis functions on the \n",
    "mesh elements lets solve the problem, and then plot the results"
   ]
  },
  {
   "cell_type": "code",
   "execution_count": 7,
   "metadata": {},
   "outputs": [],
   "source": [
    "sol_deg2 = solve(quad_mesh, quad_tri_element)\n",
    "solution_exact = ud(quad_mesh.nodes)\n",
    "err = np.max(np.abs(sol_deg2 - solution_exact))"
   ]
  },
  {
   "cell_type": "code",
   "execution_count": 8,
   "metadata": {},
   "outputs": [
    {
     "data": {
      "image/png": "[encoded data removed]",
      "text/plain": [
       "<Figure size 720x432 with 3 Axes>"
      ]
     },
     "metadata": {
      "needs_background": "light"
     },
     "output_type": "display_data"
    }
   ],
   "source": [
    "mtri = Triangulation(*quad_mesh.nodes.numpy().T)\n",
    "\n",
    "fig, axes = plt.subplots(ncols=3, figsize=(10, 6))\n",
    "\n",
    "\n",
    "axes[0].tricontourf(mtri, sol_deg2[:, 0], levels=20)\n",
    "axes[1].tricontourf(mtri, ud(quad_mesh.nodes)[:, 0], levels=20)\n",
    "axes[2].tricontourf(mtri, np.abs(sol_deg2[:, 0] - solution_exact[:, 0]))\n",
    "\n",
    "titles = ['Numerical' % err, 'Exact', 'Abs. Error, (max = {:.2e})'.format(err)]\n",
    "\n",
    "for i, ax in enumerate(axes):\n",
    "    ax.add_collection(\n",
    "        LineCollection(tf.gather(mesh.nodes, mesh.boundary_elements), colors='k', label='$\\partial \\Omega$'))\n",
    "    ax.set_aspect('equal'); ax.axis('off')\n",
    "    for method in [ax.set_xlim, ax.set_ylim]:\n",
    "        method((-0.1, 1.1))\n",
    "    ax.set_title(titles[i])"
   ]
  },
  {
   "cell_type": "markdown",
   "metadata": {},
   "source": [
    "# PDE inside of a `tf.keras.Model`"
   ]
  },
  {
   "cell_type": "code",
   "execution_count": 9,
   "metadata": {},
   "outputs": [
    {
     "name": "stdout",
     "output_type": "stream",
     "text": [
      "Model: \"model\"\n",
      "__________________________________________________________________________________________________\n",
      "Layer (type)                    Output Shape         Param #     Connected to                     \n",
      "==================================================================================================\n",
      "input_1 (InputLayer)            [(None, 2)]          0                                            \n",
      "__________________________________________________________________________________________________\n",
      "mesh_provider (MeshProvider)    ((961, 2), (450, 6), 0           input_1[0][0]                    \n",
      "__________________________________________________________________________________________________\n",
      "assemble_stiffness_matrix (Asse (1, 961, 961)        0           mesh_provider[0][0]              \n",
      "                                                                 mesh_provider[0][1]              \n",
      "                                                                 mesh_provider[0][2]              \n",
      "                                                                 mesh_provider[0][3]              \n",
      "__________________________________________________________________________________________________\n",
      "assemble_load_vector (AssembleL (1, 961, 1)          3           mesh_provider[0][0]              \n",
      "                                                                 mesh_provider[0][1]              \n",
      "                                                                 mesh_provider[0][2]              \n",
      "                                                                 mesh_provider[0][3]              \n",
      "__________________________________________________________________________________________________\n",
      "solve_dirichlet_problem (SolveD (961, 1)             0           assemble_stiffness_matrix[0][0]  \n",
      "                                                                 assemble_load_vector[0][0]       \n",
      "                                                                 mesh_provider[0][0]              \n",
      "                                                                 mesh_provider[0][1]              \n",
      "                                                                 mesh_provider[0][2]              \n",
      "                                                                 mesh_provider[0][3]              \n",
      "__________________________________________________________________________________________________\n",
      "trimesh_interpolate (TriangleMe None                 0           input_1[0][0]                    \n",
      "                                                                 solve_dirichlet_problem[0][0]    \n",
      "                                                                 mesh_provider[0][0]              \n",
      "                                                                 mesh_provider[0][1]              \n",
      "                                                                 mesh_provider[0][2]              \n",
      "                                                                 mesh_provider[0][3]              \n",
      "==================================================================================================\n",
      "Total params: 3\n",
      "Trainable params: 3\n",
      "Non-trainable params: 0\n",
      "__________________________________________________________________________________________________\n"
     ]
    }
   ],
   "source": [
    "mesh_provider = tenfem.layers.MeshProvider(quad_mesh,\n",
    "                                           quad_tri_element)\n",
    "source = tfkl.Dense(1)\n",
    "#source = lambda x: -6. * tf.ones_like(x)[..., 0]\n",
    "\n",
    "\n",
    "inputs = tfkl.Input(2, dtype=tf_dtype)\n",
    "mesh_tensor_repr = mesh_provider(inputs)\n",
    "\n",
    "stiffness_matrix = AssembleStiffnessMatrix(\n",
    "    diffusion_coefficient,\n",
    "    reference_element=mesh_provider.reference_element)(mesh_tensor_repr)\n",
    "\n",
    "load_vector = AssembleLoadVector(source,\n",
    "                                 reference_element=mesh_provider.reference_element,\n",
    "                                 name='assemble_load_vector')(mesh_tensor_repr)\n",
    "\n",
    "u = SolveDirichletProblem(ud, \n",
    "                          reference_element=mesh_provider.reference_element)(\n",
    "    [stiffness_matrix,\n",
    "     load_vector,\n",
    "     mesh_tensor_repr])\n",
    "\n",
    "ux = TriangleMeshInterpolator(tri_finder=mesh._triang.get_trifinder(),\n",
    "                              reference_element=mesh_provider.reference_element)(\n",
    "    [inputs, u, mesh_tensor_repr])\n",
    "\n",
    "model = tfk.Model(inputs=inputs, outputs=ux)\n",
    "model.summary()"
   ]
  },
  {
   "cell_type": "code",
   "execution_count": 10,
   "metadata": {},
   "outputs": [
    {
     "name": "stdout",
     "output_type": "stream",
     "text": [
      "Epoch 1/100\n",
      "4/4 [==============================] - 0s 33ms/step - loss: 0.0605\n",
      "Epoch 2/100\n",
      "4/4 [==============================] - 0s 32ms/step - loss: 0.0602\n",
      "Epoch 3/100\n",
      "4/4 [==============================] - 0s 32ms/step - loss: 0.0600\n",
      "Epoch 4/100\n",
      "4/4 [==============================] - 0s 31ms/step - loss: 0.0599\n",
      "Epoch 5/100\n",
      "4/4 [==============================] - 0s 36ms/step - loss: 0.0597\n",
      "Epoch 6/100\n",
      "4/4 [==============================] - 0s 31ms/step - loss: 0.0595\n",
      "Epoch 7/100\n",
      "4/4 [==============================] - 0s 33ms/step - loss: 0.0594\n",
      "Epoch 8/100\n",
      "4/4 [==============================] - 0s 31ms/step - loss: 0.0592\n",
      "Epoch 9/100\n",
      "4/4 [==============================] - 0s 32ms/step - loss: 0.0590\n",
      "Epoch 10/100\n",
      "4/4 [==============================] - 0s 32ms/step - loss: 0.0589\n",
      "Epoch 11/100\n",
      "4/4 [==============================] - 0s 31ms/step - loss: 0.0587\n",
      "Epoch 12/100\n",
      "4/4 [==============================] - 0s 31ms/step - loss: 0.0586\n",
      "Epoch 13/100\n",
      "4/4 [==============================] - 0s 31ms/step - loss: 0.0584\n",
      "Epoch 14/100\n",
      "4/4 [==============================] - 0s 31ms/step - loss: 0.0583\n",
      "Epoch 15/100\n",
      "4/4 [==============================] - 0s 31ms/step - loss: 0.0581\n",
      "Epoch 16/100\n",
      "4/4 [==============================] - 0s 34ms/step - loss: 0.0580\n",
      "Epoch 17/100\n",
      "4/4 [==============================] - 0s 32ms/step - loss: 0.0578\n",
      "Epoch 18/100\n",
      "4/4 [==============================] - 0s 32ms/step - loss: 0.0577\n",
      "Epoch 19/100\n",
      "4/4 [==============================] - 0s 32ms/step - loss: 0.0576\n",
      "Epoch 20/100\n",
      "4/4 [==============================] - 0s 32ms/step - loss: 0.0574\n",
      "Epoch 21/100\n",
      "4/4 [==============================] - 0s 33ms/step - loss: 0.0573\n",
      "Epoch 22/100\n",
      "4/4 [==============================] - 0s 38ms/step - loss: 0.0571\n",
      "Epoch 23/100\n",
      "4/4 [==============================] - 0s 34ms/step - loss: 0.0570\n",
      "Epoch 24/100\n",
      "4/4 [==============================] - 0s 31ms/step - loss: 0.0568\n",
      "Epoch 25/100\n",
      "4/4 [==============================] - 0s 33ms/step - loss: 0.0567\n",
      "Epoch 26/100\n",
      "4/4 [==============================] - 0s 33ms/step - loss: 0.0565\n",
      "Epoch 27/100\n",
      "4/4 [==============================] - 0s 32ms/step - loss: 0.0564\n",
      "Epoch 28/100\n",
      "4/4 [==============================] - 0s 33ms/step - loss: 0.0562\n",
      "Epoch 29/100\n",
      "4/4 [==============================] - 0s 32ms/step - loss: 0.0561\n",
      "Epoch 30/100\n",
      "4/4 [==============================] - 0s 32ms/step - loss: 0.0559\n",
      "Epoch 31/100\n",
      "4/4 [==============================] - 0s 31ms/step - loss: 0.0558\n",
      "Epoch 32/100\n",
      "4/4 [==============================] - 0s 33ms/step - loss: 0.0556\n",
      "Epoch 33/100\n",
      "4/4 [==============================] - 0s 34ms/step - loss: 0.0555\n",
      "Epoch 34/100\n",
      "4/4 [==============================] - 0s 31ms/step - loss: 0.0553\n",
      "Epoch 35/100\n",
      "4/4 [==============================] - 0s 31ms/step - loss: 0.0552\n",
      "Epoch 36/100\n",
      "4/4 [==============================] - 0s 32ms/step - loss: 0.0551\n",
      "Epoch 37/100\n",
      "4/4 [==============================] - 0s 32ms/step - loss: 0.0549\n",
      "Epoch 38/100\n",
      "4/4 [==============================] - 0s 32ms/step - loss: 0.0548\n",
      "Epoch 39/100\n",
      "4/4 [==============================] - 0s 32ms/step - loss: 0.0546\n",
      "Epoch 40/100\n",
      "4/4 [==============================] - 0s 37ms/step - loss: 0.0545\n",
      "Epoch 41/100\n",
      "4/4 [==============================] - 0s 33ms/step - loss: 0.0543\n",
      "Epoch 42/100\n",
      "4/4 [==============================] - 0s 34ms/step - loss: 0.0542\n",
      "Epoch 43/100\n",
      "4/4 [==============================] - 0s 32ms/step - loss: 0.0541\n",
      "Epoch 44/100\n",
      "4/4 [==============================] - 0s 33ms/step - loss: 0.0539\n",
      "Epoch 45/100\n",
      "4/4 [==============================] - 0s 32ms/step - loss: 0.0538\n",
      "Epoch 46/100\n",
      "4/4 [==============================] - 0s 31ms/step - loss: 0.0536\n",
      "Epoch 47/100\n",
      "4/4 [==============================] - 0s 32ms/step - loss: 0.0535\n",
      "Epoch 48/100\n",
      "4/4 [==============================] - 0s 33ms/step - loss: 0.0533\n",
      "Epoch 49/100\n",
      "4/4 [==============================] - 0s 33ms/step - loss: 0.0532\n",
      "Epoch 50/100\n",
      "4/4 [==============================] - 0s 32ms/step - loss: 0.0530\n",
      "Epoch 51/100\n",
      "4/4 [==============================] - 0s 39ms/step - loss: 0.0529\n",
      "Epoch 52/100\n",
      "4/4 [==============================] - 0s 31ms/step - loss: 0.0527\n",
      "Epoch 53/100\n",
      "4/4 [==============================] - 0s 33ms/step - loss: 0.0526\n",
      "Epoch 54/100\n",
      "4/4 [==============================] - 0s 34ms/step - loss: 0.0525\n",
      "Epoch 55/100\n",
      "4/4 [==============================] - 0s 45ms/step - loss: 0.0523\n",
      "Epoch 56/100\n",
      "4/4 [==============================] - 0s 33ms/step - loss: 0.0522\n",
      "Epoch 57/100\n",
      "4/4 [==============================] - 0s 30ms/step - loss: 0.0520\n",
      "Epoch 58/100\n",
      "4/4 [==============================] - 0s 31ms/step - loss: 0.0519\n",
      "Epoch 59/100\n",
      "4/4 [==============================] - 0s 31ms/step - loss: 0.0517\n",
      "Epoch 60/100\n",
      "4/4 [==============================] - 0s 30ms/step - loss: 0.0516\n",
      "Epoch 61/100\n",
      "4/4 [==============================] - 0s 30ms/step - loss: 0.0515\n",
      "Epoch 62/100\n",
      "4/4 [==============================] - 0s 35ms/step - loss: 0.0513\n",
      "Epoch 63/100\n",
      "4/4 [==============================] - 0s 31ms/step - loss: 0.0512\n",
      "Epoch 64/100\n",
      "4/4 [==============================] - 0s 43ms/step - loss: 0.0510\n",
      "Epoch 65/100\n",
      "4/4 [==============================] - 0s 36ms/step - loss: 0.0509\n",
      "Epoch 66/100\n",
      "4/4 [==============================] - 0s 32ms/step - loss: 0.0507\n",
      "Epoch 67/100\n",
      "4/4 [==============================] - 0s 31ms/step - loss: 0.0506\n",
      "Epoch 68/100\n",
      "4/4 [==============================] - 0s 31ms/step - loss: 0.0505\n",
      "Epoch 69/100\n",
      "4/4 [==============================] - 0s 30ms/step - loss: 0.0503\n",
      "Epoch 70/100\n",
      "4/4 [==============================] - 0s 29ms/step - loss: 0.0502\n",
      "Epoch 71/100\n",
      "4/4 [==============================] - 0s 31ms/step - loss: 0.0501\n",
      "Epoch 72/100\n",
      "4/4 [==============================] - 0s 66ms/step - loss: 0.0499\n",
      "Epoch 73/100\n",
      "4/4 [==============================] - 0s 34ms/step - loss: 0.0498\n",
      "Epoch 74/100\n",
      "4/4 [==============================] - 0s 32ms/step - loss: 0.0496\n",
      "Epoch 75/100\n",
      "4/4 [==============================] - 0s 30ms/step - loss: 0.0495\n",
      "Epoch 76/100\n",
      "4/4 [==============================] - 0s 33ms/step - loss: 0.0494\n",
      "Epoch 77/100\n",
      "4/4 [==============================] - 0s 36ms/step - loss: 0.0492\n",
      "Epoch 78/100\n",
      "4/4 [==============================] - 0s 29ms/step - loss: 0.0491\n",
      "Epoch 79/100\n",
      "4/4 [==============================] - 0s 31ms/step - loss: 0.0490\n",
      "Epoch 80/100\n",
      "4/4 [==============================] - 0s 30ms/step - loss: 0.0488\n",
      "Epoch 81/100\n",
      "4/4 [==============================] - 0s 30ms/step - loss: 0.0487\n",
      "Epoch 82/100\n",
      "4/4 [==============================] - 0s 32ms/step - loss: 0.0485\n",
      "Epoch 83/100\n",
      "4/4 [==============================] - 0s 32ms/step - loss: 0.0484\n",
      "Epoch 84/100\n",
      "4/4 [==============================] - 0s 31ms/step - loss: 0.0482\n",
      "Epoch 85/100\n",
      "4/4 [==============================] - 0s 37ms/step - loss: 0.0481\n",
      "Epoch 86/100\n",
      "4/4 [==============================] - 0s 34ms/step - loss: 0.0479\n",
      "Epoch 87/100\n",
      "4/4 [==============================] - 0s 31ms/step - loss: 0.0478\n",
      "Epoch 88/100\n",
      "4/4 [==============================] - 0s 32ms/step - loss: 0.0477\n",
      "Epoch 89/100\n",
      "4/4 [==============================] - 0s 31ms/step - loss: 0.0475\n",
      "Epoch 90/100\n",
      "4/4 [==============================] - 0s 30ms/step - loss: 0.0474\n",
      "Epoch 91/100\n",
      "4/4 [==============================] - 0s 31ms/step - loss: 0.0473\n",
      "Epoch 92/100\n",
      "4/4 [==============================] - 0s 33ms/step - loss: 0.0472\n",
      "Epoch 93/100\n",
      "4/4 [==============================] - 0s 35ms/step - loss: 0.0470\n",
      "Epoch 94/100\n",
      "4/4 [==============================] - 0s 41ms/step - loss: 0.0469\n",
      "Epoch 95/100\n",
      "4/4 [==============================] - 0s 31ms/step - loss: 0.0468\n",
      "Epoch 96/100\n",
      "4/4 [==============================] - 0s 31ms/step - loss: 0.0466\n",
      "Epoch 97/100\n",
      "4/4 [==============================] - 0s 30ms/step - loss: 0.0465\n",
      "Epoch 98/100\n",
      "4/4 [==============================] - 0s 31ms/step - loss: 0.0463\n",
      "Epoch 99/100\n",
      "4/4 [==============================] - 0s 33ms/step - loss: 0.0462\n",
      "Epoch 100/100\n",
      "4/4 [==============================] - 0s 33ms/step - loss: 0.0461\n"
     ]
    }
   ],
   "source": [
    "inputs = np.random.uniform(size=100*2).reshape(100, 2)\n",
    "targets = ud(inputs)\n",
    "\n",
    "model.compile(optimizer='rmsprop', loss='mean_squared_error')\n",
    "history = model.fit(inputs, targets, epochs=100)"
   ]
  },
  {
   "cell_type": "code",
   "execution_count": null,
   "metadata": {},
   "outputs": [],
   "source": []
  }
 ],
 "metadata": {
  "kernelspec": {
   "display_name": "Python (tenfem)",
   "language": "python",
   "name": "tenfem"
  },
  "language_info": {
   "codemirror_mode": {
    "name": "ipython",
    "version": 3
   },
   "file_extension": ".py",
   "mimetype": "text/x-python",
   "name": "python",
   "nbconvert_exporter": "python",
   "pygments_lexer": "ipython3",
   "version": "3.7.6"
  }
 },
 "nbformat": 4,
 "nbformat_minor": 4
}
