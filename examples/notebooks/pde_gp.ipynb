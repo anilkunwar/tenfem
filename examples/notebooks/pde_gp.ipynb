{
 "cells": [
  {
   "cell_type": "markdown",
   "metadata": {},
   "source": [
    "# Introduction\n",
    "\n",
    "In the [Notebook](hello_poisson.ipynb) we introduced the basic process of\n",
    "solving the Poisson problem with constant source. This seemed to work just fine,\n",
    "but giving the prior existence of FEM solving software packages why have we gone\n",
    "to all the additional work of implementing these methods inside of the Tensorflow\n",
    "ecosystem? In this notebook we being to make this abit clearer by considering a\n",
    "much more interesting class of models obtained by replacing the relatively\n",
    "boring source of the previous examples with the tensorflow implementation of the\n",
    "`GaussianProcess` class. That is we shall consider the solution of PDE systems of the\n",
    "form\n",
    "\n",
    "$$\n",
    "\\begin{align}\n",
    "    -\\nabla ( a(x) \\nabla u(x) ) &= f(x) \\qquad x \\in \\Omega \\\\\n",
    "    u(x) &= g(x) \\qquad x \\in \\partial\\Omega \\\\\n",
    "\\end{align}\n",
    "$$\n",
    "\n",
    "where the source term, $f(x)$, and the boundary condition $g(x)$, are both\n",
    "given independent Gaussian process priors.\n",
    "\n",
    "$$\n",
    "\\begin{align}\n",
    "    f(x) &\\sim \\mathcal{GP}(0, k_f), \\\\\n",
    "    g(x) &\\sim \\mathcal{GP}(0, k_g)\n",
    "\\end{align}\n",
    "$$\n",
    "\n",
    "where the source function is now a mean zero Gaussian process with kernel function $k$.\n",
    "We show that it is simple to put together this model, and for the cost of implementing\n",
    "the FEM solver we have gained access to the full set of statistical and machine learning\n",
    "models implemented in TensorFlow"
   ]
  },
  {
   "cell_type": "code",
   "execution_count": 1,
   "metadata": {},
   "outputs": [],
   "source": [
    "import numpy as np\n",
    "import tensorflow as tf\n",
    "import tensorflow_probability as tfp\n",
    "tf.keras.backend.set_floatx('float64')\n",
    "import tenfem\n",
    "import matplotlib.pyplot as plt\n",
    "from matplotlib.collections import LineCollection\n",
    "from matplotlib.tri import Triangulation\n",
    "from tenfem.layers import (AssembleStiffnessMatrix, AssembleLoadVector, SolveDirichletProblem,\n",
    "                           TriangleMeshInterpolator)\n",
    "\n",
    "tf_dtype = tf.float64\n",
    "tfk = tf.keras\n",
    "tfkl = tf.keras.layers\n",
    "tfpl = tfp.layers\n",
    "\n",
    "tf.random.set_seed(123)\n",
    "\n",
    "num_inducing_points = 50"
   ]
  },
  {
   "cell_type": "markdown",
   "metadata": {},
   "source": [
    "### Domain creation\n",
    "Before proceeding to define this part of the model, lets create our problem domain\n",
    "$\\Omega$, again we will use a simple example mesh which is the unit square\n",
    "$\\Omega = [0, 1] \\times [0, 1]$. We will also rescale this domain to give our \n",
    "GP variables some \"wiggle\" room."
   ]
  },
  {
   "cell_type": "code",
   "execution_count": 2,
   "metadata": {},
   "outputs": [],
   "source": [
    "mesh = tenfem.mesh.examples.square(20, 20, dtype=tf_dtype)\n",
    "# rescale the mesh a bit\n",
    "mesh = tenfem.mesh.TriangleMesh(3 * mesh.nodes,\n",
    "                                mesh.elements,\n",
    "                                mesh.boundary_elements)\n",
    "mesh.add_matplotlib_tri()"
   ]
  },
  {
   "cell_type": "markdown",
   "metadata": {},
   "source": [
    "# Creating the GP model\n",
    "\n",
    "\n",
    "## The kernel function\n",
    "In this example we shall take the kernel function of our Gaussian process to be popular\n",
    "exponentiated quadratic, or radial basis function (RBF) kernel\n",
    "\n",
    "$$\n",
    "    k(x, x') = \\alpha^2 \\exp\\left(-\\frac{1}{2} \\sum_{d=1}^D (x_d - x'_d ) / \\ell_d^2 \\right)\n",
    "$$\n",
    "\n",
    "where $\\alpha$ is the *amplitude* parameter, and $\\ell$ is the *length-scale* parameter. \n",
    "\n",
    "We want to implement the GP model inside of the `tf.keras` functional API using the layers\n",
    "created by the `tensorflow_probability` team. To do so we are going to need a layer whose\n",
    "job is provide the kernel function to the Gaussian process. This layers job is to hold the\n",
    "model parameters, and simple layer class to do this job taken from \n",
    "the [tfp examples]() is given below"
   ]
  },
  {
   "cell_type": "code",
   "execution_count": 3,
   "metadata": {},
   "outputs": [],
   "source": [
    "class RBFKernelFn(tf.keras.layers.Layer):\n",
    "    def __init__(self, **kwargs):\n",
    "        super(RBFKernelFn, self).__init__(**kwargs)\n",
    "        dtype = kwargs.get('dtype', None)\n",
    "\n",
    "        self._amplitude = self.add_weight(\n",
    "                initializer=tf.constant_initializer(0),\n",
    "                dtype=dtype,\n",
    "                name='amplitude')\n",
    "\n",
    "        self._length_scale = self.add_weight(\n",
    "                initializer=tf.constant_initializer(0.5),\n",
    "                dtype=dtype,\n",
    "                name='length_scale')\n",
    "\n",
    "    @property\n",
    "    def kernel(self):\n",
    "        return tfp.math.psd_kernels.ExponentiatedQuadratic(\n",
    "          amplitude=tf.nn.softplus(0.1 * self._amplitude),\n",
    "          length_scale=tf.nn.softplus(0.1 * self._length_scale))"
   ]
  },
  {
   "cell_type": "markdown",
   "metadata": {},
   "source": [
    "## `VariationalGaussianProcess`\n",
    "\n",
    "Read more about these process at ... first we are just going to define a function\n",
    "to build these layers, and then give a bit more of a recap of what is going on"
   ]
  },
  {
   "cell_type": "code",
   "execution_count": 4,
   "metadata": {},
   "outputs": [],
   "source": [
    "def build_gp_layer(kernel_fn='RBF'):\n",
    "    \"\"\" Simple function to quickly build a SVGP layer. \"\"\"\n",
    "    if kernel_fn != 'RBF':\n",
    "        raise NotImplementError('Add more kernel functions!')\n",
    "\n",
    "    # select the initial inducing points uniformly from the mesh node\n",
    "    z_indices = np.random.choice(mesh.interior_node_indices.numpy(), \n",
    "                                 size=num_inducing_points, \n",
    "                                 replace=False)\n",
    "    z = mesh.nodes.numpy()[z_indices]\n",
    "\n",
    "    # initialize q(u) at the prior\n",
    "    kernel_provider = RBFKernelFn(dtype=tf.float64)\n",
    "    kzz = kernel_provider.kernel.matrix(z, z)\n",
    "    scale = tf.linalg.cholesky(kzz).numpy()\n",
    "\n",
    "    gp_layer = tfp.layers.VariationalGaussianProcess(\n",
    "        num_inducing_points=num_inducing_points,\n",
    "        kernel_provider=RBFKernelFn(),\n",
    "        event_shape=[1],\n",
    "        inducing_index_points_initializer=tf.constant_initializer(z),\n",
    "        variational_inducing_observations_scale_initializer=tf.constant_initializer(scale),\n",
    "        jitter=1e-4)\n",
    "    return gp_layer"
   ]
  },
  {
   "cell_type": "markdown",
   "metadata": {},
   "source": [
    "A Gaussian process determines the distribution of finite samples \n",
    "$\\mathbf{f} = (f(\\mathbf{x}_1), \\ldots, f(\\mathbf{x}_n) )$, a sparse\n",
    "variational Gaussian process introduces an additional set of \n",
    "*inducing variables* denoted by $\\mathbf{u}$ with distribution\n",
    "$q(\\mathbf{u})$ and then approximates the distribution over the\n",
    "complete set of $\\mathbb{f}$ by the factorised\n",
    "\n",
    "$$\n",
    "    p(\\mathbf{f}, \\mathbf{u}) = \n",
    "    p(\\mathbf{f} \\mid \\mathbf{u}) q(\\mathbf{u}).\n",
    "$$\n",
    "\n",
    "For Gaussian observations the parameters of $q(\\mathbf{u})$ can\n",
    "be determined analytically. For more complex models these are\n",
    "instead freely optimised, in which case we specify\n",
    "\n",
    "$$\n",
    "    q(\\mathbf{u}) = \\mathcal{N}(\\mathbf{u} \\mid \\mathbf{m}, \\mathbf{LL}^{\\top})\n",
    "$$\n",
    "\n",
    "where $\\mathbf{L}$ is a lower-triangular matrix. For\n",
    "`num_inducing_points = M` this is a total of \n",
    "$M + M(M+1)/2$ parameters.\n",
    "\n",
    "In the examples below we use the\n",
    "*inducing points variables* which are additional samples of the\n",
    "process $f(\\mathbf{x})$ drawn at locations \n",
    "$\\mathbf{Z} = \\{ \\mathbf{z}_m \\}_{m=1}^M$. This gives the\n",
    "following set of parameters\n",
    "\n",
    "* $\\mathbf{Z}$ -- the `inducing_point_locations`\n",
    "* $\\mathbf{m}$ -- the `variational_inducing_observations_loc`\n",
    "* $\\mathbf{L}$ -- the `variational_inducing_observations_scale`\n",
    "\n",
    "this variables can be accessed by passing a variable through the GP\n",
    "and querying the output. This is a bit sketchy, the name of the\n",
    "object returned by a GP layer is a mess of transposes and transformed\n",
    "distribution which is a little hard to parse, but if we print the\n",
    "variables we see they are what we would expect"
   ]
  },
  {
   "cell_type": "code",
   "execution_count": 5,
   "metadata": {},
   "outputs": [
    {
     "name": "stdout",
     "output_type": "stream",
     "text": [
      "WARNING:tensorflow:From /Users/danieltait/anaconda3/envs/tenfem/lib/python3.7/site-packages/tensorflow/python/ops/linalg/linear_operator_lower_triangular.py:158: calling LinearOperator.__init__ (from tensorflow.python.ops.linalg.linear_operator) with graph_parents is deprecated and will be removed in a future version.\n",
      "Instructions for updating:\n",
      "Do not pass `graph_parents`.  They will  no longer be used.\n"
     ]
    },
    {
     "name": "stderr",
     "output_type": "stream",
     "text": [
      "/Users/danieltait/anaconda3/envs/tenfem/lib/python3.7/site-packages/tensorflow_probability/python/distributions/gaussian_process.py:311: UserWarning: Unable to detect statically whether the number of index_points is 1. As a result, defaulting to treating the marginal GP at `index_points` as a multivariate Gaussian. This makes some methods, like `cdf` unavailable.\n",
      "  'Unable to detect statically whether the number of index_points is '\n"
     ]
    },
    {
     "name": "stdout",
     "output_type": "stream",
     "text": [
      "variational_gaussian_process/inducing_index_points:0\n",
      "variational_gaussian_process/variational_inducing_observations_loc:0\n",
      "variational_gaussian_process/variational_inducing_observations_scale:0\n",
      "variational_gaussian_process/mean:0\n",
      "variational_gaussian_process/observation_noise_variance:0\n",
      "amplitude:0\n",
      "length_scale:0\n"
     ]
    }
   ],
   "source": [
    "inputs = tfkl.Input(2)\n",
    "gp_layer = build_gp_layer()\n",
    "f = gp_layer(inputs)\n",
    "for item in f.variables:\n",
    "    print(item.name)"
   ]
  },
  {
   "cell_type": "markdown",
   "metadata": {},
   "source": [
    "What we want is a `tfpl` layer which will return a\n",
    "`tfd.distributions.VariationalGaussianProcess` object.\n",
    "\n",
    "We are going to initialise the locations of the inducing points at the a \n",
    "selection of randomly sampled nodes on the mesh, and the distribution\n",
    "$q(\\mathbf{u})$ at the prior"
   ]
  },
  {
   "cell_type": "markdown",
   "metadata": {},
   "source": [
    "We are also going to add a further layer transforming our inputs to the parameters\n",
    "of the kernel function\n",
    "```\n",
    "    Input ---> Dense(2) ---> VariationalGaussianProcess\n",
    "```\n",
    "This layer does simple rescaling of the parameters, but obviously one is\n",
    "free to extend this idea adding more and more layers to warp the input space\n",
    "which will be points in $\\Omega$. Clearly this approach to model building can be\n",
    "easily adapted to join multiple spaces etc.\n",
    "\n",
    "We leave the exploration of the full possibilities for the reader and future notebooks\n",
    "and for now just implement the simple model shown above. We can put the source\n",
    "together as a full model and use the `.summary()` method to check everything is\n",
    "working as expected."
   ]
  },
  {
   "cell_type": "code",
   "execution_count": 6,
   "metadata": {},
   "outputs": [
    {
     "name": "stdout",
     "output_type": "stream",
     "text": [
      "Model: \"source\"\n",
      "_________________________________________________________________\n",
      "Layer (type)                 Output Shape              Param #   \n",
      "=================================================================\n",
      "input_2 (InputLayer)         [(None, 2)]               0         \n",
      "_________________________________________________________________\n",
      "variational_gaussian_process ((None, 1), (None, 1))    2654      \n",
      "=================================================================\n",
      "Total params: 2,654\n",
      "Trainable params: 2,654\n",
      "Non-trainable params: 0\n",
      "_________________________________________________________________\n"
     ]
    }
   ],
   "source": [
    "inputs = tfkl.Input(2)\n",
    "# x = tfkl.Dense(2, use_bias=False)(inputs)  # scales inputs (like a length_scale)\n",
    "f = build_gp_layer('RBF')(inputs)\n",
    "source = tfk.Model(inputs=inputs, outputs=f, name='source')\n",
    "source.summary()"
   ]
  },
  {
   "cell_type": "markdown",
   "metadata": {},
   "source": [
    "# Implementing the FEM model\n",
    "\n",
    "We have the following steps\n",
    "1. Define the source model\n",
    "2. Define the Dirichlet boundary condition model\n",
    "3. Define the diffusion coefficient model\n",
    "4. Combine"
   ]
  },
  {
   "cell_type": "code",
   "execution_count": 7,
   "metadata": {},
   "outputs": [],
   "source": [
    "element = tenfem.reference_elements.TriangleElement(degree=2, dtype=tf_dtype)\n",
    "quad_mesh = tenfem.mesh.triangle.convert_linear_to_quadratic(mesh)\n",
    "\n",
    "diffusion_coefficient = lambda x: tf.ones_like(x[..., 0])[..., tf.newaxis] # tfkl.Dense(1, activation='softplus')"
   ]
  },
  {
   "cell_type": "markdown",
   "metadata": {},
   "source": [
    "### The boundary condition $u_D$\n",
    "\n",
    "We are also going to assign a GP to the values of $u$ on the boundary, that\n",
    "is \n",
    "\n",
    "$$\n",
    "    u_{D}(x) \\sim GP(0, k_D(x, x'))\n",
    "$$\n",
    "\n",
    "and as with the source model we make this using the `VariationalGaussianProcessLayer`"
   ]
  },
  {
   "cell_type": "code",
   "execution_count": 8,
   "metadata": {},
   "outputs": [
    {
     "name": "stdout",
     "output_type": "stream",
     "text": [
      "Model: \"boundary\"\n",
      "_________________________________________________________________\n",
      "Layer (type)                 Output Shape              Param #   \n",
      "=================================================================\n",
      "input_3 (InputLayer)         [(None, 2)]               0         \n",
      "_________________________________________________________________\n",
      "variational_gaussian_process ((None, 1), (None, 1))    2654      \n",
      "=================================================================\n",
      "Total params: 2,654\n",
      "Trainable params: 2,654\n",
      "Non-trainable params: 0\n",
      "_________________________________________________________________\n"
     ]
    }
   ],
   "source": [
    "# GP model to give the boundary values\n",
    "inputs = tfkl.Input(2)\n",
    "f = build_gp_layer('RBF')(inputs)\n",
    "ud = tfk.Model(inputs=inputs, outputs=f, name='boundary')\n",
    "ud.summary()"
   ]
  },
  {
   "cell_type": "markdown",
   "metadata": {},
   "source": [
    "### The full latent GP PDE"
   ]
  },
  {
   "cell_type": "code",
   "execution_count": 14,
   "metadata": {},
   "outputs": [
    {
     "name": "stdout",
     "output_type": "stream",
     "text": [
      "Model: \"model_1\"\n",
      "__________________________________________________________________________________________________\n",
      "Layer (type)                    Output Shape         Param #     Connected to                     \n",
      "==================================================================================================\n",
      "input_5 (InputLayer)            [(None, 2)]          0                                            \n",
      "__________________________________________________________________________________________________\n",
      "mesh_provider (MeshProvider)    ((1521, 2), (722, 6) 0           input_5[0][0]                    \n",
      "__________________________________________________________________________________________________\n",
      "linear_elliptic_opeartor (Linea (1521, 1)            2654        mesh_provider[0][0]              \n",
      "                                                                 mesh_provider[0][1]              \n",
      "                                                                 mesh_provider[0][2]              \n",
      "                                                                 mesh_provider[0][3]              \n",
      "__________________________________________________________________________________________________\n",
      "trimesh_interpolate (TriangleMe None                 0           input_5[0][0]                    \n",
      "                                                                 linear_elliptic_opeartor[0][0]   \n",
      "                                                                 mesh_provider[0][0]              \n",
      "                                                                 mesh_provider[0][1]              \n",
      "                                                                 mesh_provider[0][2]              \n",
      "                                                                 mesh_provider[0][3]              \n",
      "==================================================================================================\n",
      "Total params: 2,654\n",
      "Trainable params: 2,654\n",
      "Non-trainable params: 0\n",
      "__________________________________________________________________________________________________\n"
     ]
    }
   ],
   "source": [
    "mesh_provider = tenfem.layers.MeshProvider(quad_mesh, element)\n",
    "\n",
    "ud = lambda x: tf.zeros_like(x[..., 0])[..., tf.newaxis]\n",
    "\n",
    "gp_pde = tenfem.layers.LinearEllipticOperator(\n",
    "    diffusion_coefficient=diffusion_coefficient,\n",
    "    source=source,\n",
    "    boundary_values=ud,\n",
    "    reference_element=element)\n",
    "\n",
    "interp = tenfem.layers.TriangleMeshInterpolator(\n",
    "    tri_finder = mesh._triang.get_trifinder(),\n",
    "    reference_element=element)\n",
    "\n",
    "# create the model using the tf.keras functional API\n",
    "inputs = tfkl.Input(shape=(2, ))\n",
    "mesh_tensor_repr = mesh_provider(inputs)\n",
    "\n",
    "u = gp_pde(mesh_tensor_repr)  # solution of the model at the tensor nodes\n",
    "outputs = interp([inputs, u, mesh_tensor_repr])\n",
    "\n",
    "gp_pde_model = tfk.Model(inputs=inputs, outputs=outputs)\n",
    "gp_pde_model.summary()"
   ]
  },
  {
   "cell_type": "markdown",
   "metadata": {},
   "source": [
    "lets sample some realisations of this model to see what sort of patterns we can realise"
   ]
  },
  {
   "cell_type": "code",
   "execution_count": 15,
   "metadata": {},
   "outputs": [
    {
     "data": {
      "image/png": "[encoded data removed]",
      "text/plain": [
       "<Figure size 720x360 with 3 Axes>"
      ]
     },
     "metadata": {
      "needs_background": "light"
     },
     "output_type": "display_data"
    }
   ],
   "source": [
    "xx = np.linspace(0., np.max(mesh.nodes[:, 0]))\n",
    "yy = np.linspace(0., np.max(mesh.nodes[:, 1]))\n",
    "xx, yy = np.meshgrid(xx, yy)\n",
    "points = np.column_stack((xx.ravel(), yy.ravel()))\n",
    "\n",
    "fig, axes = plt.subplots(ncols=3, figsize=(10, 5))\n",
    "\n",
    "for i in range(3):\n",
    "    #u = interp([points, source(quad_mesh.get_tensor_repr()), quad_mesh.get_tensor_repr()])\n",
    "    #u = u.numpy().reshape(xx.shape)\n",
    "    u = gp_pde_model(points).numpy().reshape(xx.shape)\n",
    "    axes[i].contourf(xx, yy, u, levels=20)\n",
    "for ax in axes.flatten():\n",
    "    ax.set_aspect('equal')"
   ]
  },
  {
   "cell_type": "code",
   "execution_count": 11,
   "metadata": {},
   "outputs": [
    {
     "ename": "AssertionError",
     "evalue": "",
     "output_type": "error",
     "traceback": [
      "\u001b[0;31m---------------------------------------------------------------------------\u001b[0m",
      "\u001b[0;31mAssertionError\u001b[0m                            Traceback (most recent call last)",
      "\u001b[0;32m<ipython-input-11-8808c4021c9c>\u001b[0m in \u001b[0;36m<module>\u001b[0;34m\u001b[0m\n\u001b[0;32m----> 1\u001b[0;31m \u001b[0;32massert\u001b[0m\u001b[0;34m(\u001b[0m\u001b[0;32mFalse\u001b[0m\u001b[0;34m)\u001b[0m\u001b[0;34m\u001b[0m\u001b[0;34m\u001b[0m\u001b[0m\n\u001b[0m",
      "\u001b[0;31mAssertionError\u001b[0m: "
     ]
    }
   ],
   "source": [
    "assert(False)"
   ]
  },
  {
   "cell_type": "code",
   "execution_count": null,
   "metadata": {},
   "outputs": [],
   "source": [
    "# GP model to give the boundary values\n",
    "inputs = tfkl.Input(2)\n",
    "f = build_gp_layer('RBF')(inputs)\n",
    "ud = tfk.Model(inputs=inputs, outputs=f, name='boundary')\n",
    "# ud.summary()"
   ]
  },
  {
   "cell_type": "code",
   "execution_count": null,
   "metadata": {},
   "outputs": [],
   "source": [
    "element = tenfem.reference_elements.TriangleElement(degree=2, dtype=tf_dtype)\n",
    "quad_mesh = tenfem.mesh.triangle.convert_linear_to_quadratic(mesh)\n",
    "\n",
    "diffusion_coefficient = tfkl.Dense(1, activation='softplus')\n",
    "\n",
    "def sample_source(x, seed=123):\n",
    "    tf.random.set_seed(seed)\n",
    "    return np.squeeze(source(x).sample(1))\n",
    "\n",
    "def solve(mesh, element, seed=123):\n",
    "    \"\"\" Simple function so solve the PDE\"\"\"\n",
    "    tf.random.set_seed(seed)\n",
    "    pde = tenfem.layers.LinearEllipticOperator(\n",
    "        diffusion_coefficient=diffusion_coefficient,\n",
    "        source = source,\n",
    "        boundary_values=ud,\n",
    "        reference_element=element)\n",
    "    u = pde(mesh.get_tensor_repr())\n",
    "    return u"
   ]
  },
  {
   "cell_type": "code",
   "execution_count": null,
   "metadata": {},
   "outputs": [],
   "source": [
    "f = sample_source(quad_mesh.nodes, seed=8124)\n",
    "u = solve(quad_mesh, element, seed=8124)"
   ]
  },
  {
   "cell_type": "code",
   "execution_count": null,
   "metadata": {},
   "outputs": [],
   "source": [
    "interp = tenfem.layers.TriangleMeshInterpolator(\n",
    "    tri_finder = mesh._triang.get_trifinder(),\n",
    "    reference_element=element)"
   ]
  },
  {
   "cell_type": "code",
   "execution_count": null,
   "metadata": {},
   "outputs": [],
   "source": [
    "xx = np.linspace(0., 3.)\n",
    "yy = np.linspace(0., 3.)\n",
    "xx, yy = np.meshgrid(xx, yy)\n",
    "points = np.column_stack((xx.ravel(), yy.ravel()))\n",
    "uinterp = interp([points, u, quad_mesh.get_tensor_repr()]).numpy()"
   ]
  },
  {
   "cell_type": "code",
   "execution_count": null,
   "metadata": {},
   "outputs": [],
   "source": [
    "fig, ax = plt.subplots()\n",
    "ax.contourf(xx, yy, uinterp.reshape(xx.shape), levels=20)#, cmap='Spectral')\n",
    "ax.set_aspect('equal')"
   ]
  },
  {
   "cell_type": "code",
   "execution_count": null,
   "metadata": {},
   "outputs": [],
   "source": [
    "fig, axes = plt.subplots(ncols=2, figsize=(9, 4))\n",
    "\n",
    "mtri = Triangulation(*quad_mesh.nodes.numpy().T)\n",
    "\n",
    "vals = [f, u[:, 0]]\n",
    "cm = ['plasma', 'Spectral']\n",
    "\n",
    "for i, ax in enumerate(axes):\n",
    "    cs = ax.tricontourf(mtri, vals[i], cmap=cm[i], levels=15)\n",
    "    ax.set_aspect('equal')\n",
    "\n",
    "plt.show()"
   ]
  },
  {
   "cell_type": "code",
   "execution_count": null,
   "metadata": {},
   "outputs": [],
   "source": [
    "from sklearn.datasets import fetch_species_distributions\n"
   ]
  },
  {
   "cell_type": "code",
   "execution_count": null,
   "metadata": {},
   "outputs": [],
   "source": [
    "def construct_grids(batch):\n",
    "    \"\"\"Construct the map grid from the batch object\n",
    "\n",
    "    Parameters\n",
    "    ----------\n",
    "    batch : Batch object\n",
    "        The object returned by :func:`fetch_species_distributions`\n",
    "\n",
    "    Returns\n",
    "    -------\n",
    "    (xgrid, ygrid) : 1-D arrays\n",
    "        The grid corresponding to the values in batch.coverages\n",
    "    \"\"\"\n",
    "    # x,y coordinates for corner cells\n",
    "    xmin = batch.x_left_lower_corner + batch.grid_size\n",
    "    xmax = xmin + (batch.Nx * batch.grid_size)\n",
    "    ymin = batch.y_left_lower_corner + batch.grid_size\n",
    "    ymax = ymin + (batch.Ny * batch.grid_size)\n",
    "\n",
    "    # x coordinates of the grid cells\n",
    "    xgrid = np.arange(xmin, xmax, batch.grid_size)\n",
    "    # y coordinates of the grid cells\n",
    "    ygrid = np.arange(ymin, ymax, batch.grid_size)\n",
    "\n",
    "    return (xgrid, ygrid)\n",
    "\n",
    "# Get matrices/arrays of species IDs and locations\n",
    "data = fetch_species_distributions()\n",
    "species_names = ['Bradypus Variegatus', 'Microryzomys Minutus']\n",
    "\n",
    "Xtrain = np.vstack([data['train']['dd lat'],\n",
    "                    data['train']['dd long']]).T\n",
    "ytrain = np.array([d.decode('ascii').startswith('micro')\n",
    "                  for d in data['train']['species']], dtype='int')\n",
    "#Xtrain *= np.pi / 180.  # Convert lat/long to radians\n",
    "\n",
    "# Set up the data grid for the contour plot\n",
    "xgrid, ygrid = construct_grids(data)"
   ]
  },
  {
   "cell_type": "code",
   "execution_count": null,
   "metadata": {},
   "outputs": [],
   "source": [
    "from scipy.spatial import Delaunay\n",
    "from sklearn.datasets import make_moons\n",
    "\n",
    "data = make_moons(noise=0.3, random_state=0)\n",
    "\n",
    "X, y = data\n",
    "\n",
    "bbox = (np.min(X[:, 0]) - 0.1, \n",
    "        np.max(X[:, 0]) + 0.1, \n",
    "        np.min(X[:, 1]) - 0.1, \n",
    "        np.max(X[:, 1]) + 0.1)\n",
    "\n",
    "xx = np.linspace(bbox[0], bbox[1], 16)\n",
    "yy = np.linspace(bbox[2], bbox[3], 16)\n",
    "\n",
    "xx, yy = np.meshgrid(xx, yy)\n",
    "\n",
    "nodes = np.column_stack((xx.ravel(), yy.ravel()))\n",
    "tri = Delaunay(nodes)\n",
    "\n",
    "tri_mesh = tenfem.mesh.TriangleMesh(tri.points, tri.simplices, tri.convex_hull, dtype=tf_dtype)\n",
    "tri_mesh.add_matplotlib_tri()\n",
    "\n",
    "fig, ax = plt.subplots()\n",
    "ax.triplot(tri_mesh._triang, alpha=0.4)\n",
    "ax.set_aspect('equal')\n",
    "ax.plot(*X[y == 0].T, 'C0o', markeredgecolor='k')\n",
    "ax.plot(*X[y == 1].T, 'C1o', markeredgecolor='k')\n",
    "plt.show()"
   ]
  },
  {
   "cell_type": "code",
   "execution_count": null,
   "metadata": {},
   "outputs": [],
   "source": [
    "tfd = tfp.distributions\n",
    "\n",
    "inputs = tfkl.Input(2)\n",
    "x = tfkl.Dense(2)(inputs)  # scales inputs (like a length_scale)\n",
    "f = tfkl.Dense(16, activation='relu')(x)\n",
    "f = tfkl.Dense(16, activation='relu')(f)\n",
    "pred = tfkl.Dense(2)(f)\n",
    "\n",
    "model = tfk.Model(inputs=inputs, outputs=pred)\n",
    "model.compile(optimizer=tf.optimizers.Adam(learning_rate=1e-3),\n",
    "              loss=tf.keras.losses.SparseCategoricalCrossentropy(from_logits=True),\n",
    "              metrics='accuracy')"
   ]
  },
  {
   "cell_type": "code",
   "execution_count": null,
   "metadata": {},
   "outputs": [],
   "source": [
    "model.fit(X, y[:, None], batch_size=128, epochs=1000)"
   ]
  },
  {
   "cell_type": "code",
   "execution_count": null,
   "metadata": {},
   "outputs": [],
   "source": [
    "pred = model.predict(tri_mesh.nodes)"
   ]
  },
  {
   "cell_type": "code",
   "execution_count": null,
   "metadata": {},
   "outputs": [],
   "source": [
    "fig, ax = plt.subplots()\n",
    "ax.contourf(xx, yy, pred[:, 0].reshape(xx.shape), cmap='Spectral')\n",
    "ax.plot(*X[y == 0].T, 'C0o', markeredgecolor='k')\n",
    "ax.plot(*X[y == 1].T, 'C1o', markeredgecolor='k')\n",
    "ax.set_aspect('equal')\n",
    "plt.show()"
   ]
  },
  {
   "cell_type": "code",
   "execution_count": null,
   "metadata": {},
   "outputs": [],
   "source": [
    "y.shape[1:]"
   ]
  },
  {
   "cell_type": "code",
   "execution_count": null,
   "metadata": {},
   "outputs": [],
   "source": [
    "fig, ax = plt.subplots()\n",
    "ax.plot(*Xtrain.T, 'o', markeredgecolor='k')"
   ]
  },
  {
   "cell_type": "code",
   "execution_count": null,
   "metadata": {},
   "outputs": [],
   "source": [
    "# Get matrices/arrays of species IDs and locations\n",
    "data = fetch_species_distributions()\n",
    "species_names = ['Bradypus Variegatus', 'Microryzomys Minutus']\n",
    "\n",
    "Xtrain = np.vstack([data['train']['dd lat'],\n",
    "                    data['train']['dd long']]).T\n",
    "ytrain = np.array([d.decode('ascii').startswith('micro')\n",
    "                  for d in data['train']['species']], dtype='int')\n",
    "#Xtrain *= np.pi / 180.  # Convert lat/long to radians\n",
    "\n",
    "# Set up the data grid for the contour plot\n",
    "xgrid, ygrid = construct_grids(data)"
   ]
  },
  {
   "cell_type": "code",
   "execution_count": null,
   "metadata": {},
   "outputs": [],
   "source": [
    "X, Y = np.meshgrid(xgrid[::5], ygrid[::5][::-1])\n",
    "land_reference = data.coverages[6][::5, ::5]\n",
    "land_mask = (land_reference > 100).ravel()\n",
    "\n",
    "fig, ax = plt.subplots(figsize=(6, 10))\n",
    "cs = ax.contourf(X, Y, land_reference,\n",
    "                 levels=[0, 10, 100], colors=\"k\",\n",
    "                 linestyles=\"solid\")\n",
    "\n",
    "ax.plot(Xtrain[:, 1], Xtrain[:, 0], 'o', markeredgecolor='k')\n",
    "\n",
    "ax.set_aspect('equal')"
   ]
  },
  {
   "cell_type": "code",
   "execution_count": null,
   "metadata": {},
   "outputs": [],
   "source": [
    "p = cs.collections[0].get_paths()[0]\n",
    "v = p.vertices"
   ]
  },
  {
   "cell_type": "code",
   "execution_count": null,
   "metadata": {},
   "outputs": [],
   "source": [
    "fig, ax = plt.subplots()\n",
    "ax.plot(v[:, 0], v[:, 1], '-')\n",
    "plt.show()\n"
   ]
  },
  {
   "cell_type": "code",
   "execution_count": null,
   "metadata": {},
   "outputs": [],
   "source": [
    "land_reference[land_reference > 100].shape"
   ]
  },
  {
   "cell_type": "code",
   "execution_count": null,
   "metadata": {},
   "outputs": [],
   "source": [
    "!pip install geopandas"
   ]
  },
  {
   "cell_type": "code",
   "execution_count": null,
   "metadata": {},
   "outputs": [],
   "source": [
    "# Import necessary modules\n",
    "import geopandas as gpd\n",
    "\n",
    "# Set filepath\n",
    "fp = \"SouthAmerica.shp\"\n",
    "\n",
    "# Read file using gpd.read_file()\n",
    "data = gpd.read_file(fp)"
   ]
  },
  {
   "cell_type": "code",
   "execution_count": null,
   "metadata": {},
   "outputs": [],
   "source": [
    "data"
   ]
  },
  {
   "cell_type": "code",
   "execution_count": null,
   "metadata": {},
   "outputs": [],
   "source": [
    "import geopandas"
   ]
  },
  {
   "cell_type": "code",
   "execution_count": null,
   "metadata": {},
   "outputs": [],
   "source": [
    "capitals = geopandas.read_file(geopandas.datasets.get_path(\"naturalearth_cities\"))\n",
    "world = geopandas.read_file(geopandas.datasets.get_path(\"naturalearth_lowres\"))\n",
    "\n",
    "# Create a subset of the world data that is just the South American continent\n",
    "south_america = world[world[\"continent\"] == \"South America\"]"
   ]
  },
  {
   "cell_type": "code",
   "execution_count": null,
   "metadata": {},
   "outputs": [],
   "source": [
    "fig, ax = plt.subplots()\n",
    "south_america.boundary.plot(ax=ax, color=\"green\")\n",
    "ax.set_aspect('equal')\n",
    "plt.show()"
   ]
  },
  {
   "cell_type": "code",
   "execution_count": null,
   "metadata": {},
   "outputs": [],
   "source": [
    "south_america"
   ]
  },
  {
   "cell_type": "code",
   "execution_count": null,
   "metadata": {},
   "outputs": [],
   "source": [
    "colombia = world[world.name == 'Colombia']\n",
    "panama = world[world.name == 'Panama']\n",
    "costa_rica = world[world.name == 'Costa Rica']\n",
    "brazil = world[world.name == 'Brazil']\n",
    "venezuela = world[world.name == 'Venezuela']\n",
    "\n",
    "country_names = ['Colombia', 'Venezuela', 'Ecuador', 'Peru', 'Bolivia', 'Chile', 'Brazil',\n",
    "                 'Guyana', 'Paraguay', 'Argentina']\n",
    "                 #'Suriname', 'French Guiana', 'Paraguay', ]\n",
    "\n",
    "countries = [world[world.name == name] for name in country_names]"
   ]
  },
  {
   "cell_type": "code",
   "execution_count": null,
   "metadata": {},
   "outputs": [],
   "source": [
    "polygons = list(map(lambda x: x.geometry.iloc[0], countries))"
   ]
  },
  {
   "cell_type": "code",
   "execution_count": null,
   "metadata": {},
   "outputs": [],
   "source": [
    "import shapely\n",
    "shapely.ops.unary_union(polygons)"
   ]
  },
  {
   "cell_type": "code",
   "execution_count": null,
   "metadata": {},
   "outputs": [],
   "source": []
  }
 ],
 "metadata": {
  "kernelspec": {
   "display_name": "Python (tenfem)",
   "language": "python",
   "name": "tenfem"
  },
  "language_info": {
   "codemirror_mode": {
    "name": "ipython",
    "version": 3
   },
   "file_extension": ".py",
   "mimetype": "text/x-python",
   "name": "python",
   "nbconvert_exporter": "python",
   "pygments_lexer": "ipython3",
   "version": "3.7.6"
  }
 },
 "nbformat": 4,
 "nbformat_minor": 4
}
