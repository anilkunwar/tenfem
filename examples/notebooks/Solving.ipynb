{
 "cells": [
  {
   "cell_type": "markdown",
   "metadata": {},
   "source": [
    "This test notebook explores the use of Conguate gradients to perform the solve"
   ]
  },
  {
   "cell_type": "code",
   "execution_count": 1,
   "metadata": {},
   "outputs": [
    {
     "ename": "NameError",
     "evalue": "name 'Dict' is not defined",
     "output_type": "error",
     "traceback": [
      "\u001b[0;31m---------------------------------------------------------------------------\u001b[0m",
      "\u001b[0;31mNameError\u001b[0m                                 Traceback (most recent call last)",
      "\u001b[0;32m<ipython-input-1-849f8bfa443d>\u001b[0m in \u001b[0;36m<module>\u001b[0;34m\u001b[0m\n\u001b[1;32m      1\u001b[0m \u001b[0;32mimport\u001b[0m \u001b[0mnumpy\u001b[0m \u001b[0;32mas\u001b[0m \u001b[0mnp\u001b[0m\u001b[0;34m\u001b[0m\u001b[0;34m\u001b[0m\u001b[0m\n\u001b[1;32m      2\u001b[0m \u001b[0;32mimport\u001b[0m \u001b[0mtensorflow\u001b[0m \u001b[0;32mas\u001b[0m \u001b[0mtf\u001b[0m\u001b[0;34m\u001b[0m\u001b[0;34m\u001b[0m\u001b[0m\n\u001b[0;32m----> 3\u001b[0;31m \u001b[0;32mimport\u001b[0m \u001b[0mtenfem\u001b[0m\u001b[0;34m\u001b[0m\u001b[0;34m\u001b[0m\u001b[0m\n\u001b[0m\u001b[1;32m      4\u001b[0m \u001b[0;32mimport\u001b[0m \u001b[0mmatplotlib\u001b[0m\u001b[0;34m.\u001b[0m\u001b[0mpyplot\u001b[0m \u001b[0;32mas\u001b[0m \u001b[0mplt\u001b[0m\u001b[0;34m\u001b[0m\u001b[0;34m\u001b[0m\u001b[0m\n\u001b[1;32m      5\u001b[0m from tenfem.layers import (AssembleStiffnessMatrix,\n",
      "\u001b[0;32m~/Projects/tenfem/tenfem/__init__.py\u001b[0m in \u001b[0;36m<module>\u001b[0;34m\u001b[0m\n\u001b[1;32m     15\u001b[0m \u001b[0;32mfrom\u001b[0m \u001b[0;34m.\u001b[0m \u001b[0;32mimport\u001b[0m \u001b[0mmesh\u001b[0m\u001b[0;34m\u001b[0m\u001b[0;34m\u001b[0m\u001b[0m\n\u001b[1;32m     16\u001b[0m \u001b[0;32mfrom\u001b[0m \u001b[0;34m.\u001b[0m \u001b[0;32mimport\u001b[0m \u001b[0mreference_elements\u001b[0m\u001b[0;34m\u001b[0m\u001b[0;34m\u001b[0m\u001b[0m\n\u001b[0;32m---> 17\u001b[0;31m \u001b[0;32mfrom\u001b[0m \u001b[0;34m.\u001b[0m \u001b[0;32mimport\u001b[0m \u001b[0mfem\u001b[0m\u001b[0;34m\u001b[0m\u001b[0;34m\u001b[0m\u001b[0m\n\u001b[0m\u001b[1;32m     18\u001b[0m \u001b[0;32mfrom\u001b[0m \u001b[0;34m.\u001b[0m \u001b[0;32mimport\u001b[0m \u001b[0mlayers\u001b[0m\u001b[0;34m\u001b[0m\u001b[0;34m\u001b[0m\u001b[0m\n",
      "\u001b[0;32m~/Projects/tenfem/tenfem/fem/__init__.py\u001b[0m in \u001b[0;36m<module>\u001b[0;34m\u001b[0m\n\u001b[1;32m     20\u001b[0m from .scatter_to_global import (scatter_matrix_to_global,\n\u001b[1;32m     21\u001b[0m                                 scatter_vector_to_global)\n\u001b[0;32m---> 22\u001b[0;31m from .solve_dirichlet import (dirichlet_form_linear_system,\n\u001b[0m\u001b[1;32m     23\u001b[0m                               solve_dirichlet_form_linear_system)\n",
      "\u001b[0;32m~/Projects/tenfem/tenfem/fem/solve_dirichlet.py\u001b[0m in \u001b[0;36m<module>\u001b[0;34m\u001b[0m\n\u001b[1;32m     64\u001b[0m                                        \u001b[0mboundary_vals\u001b[0m\u001b[0;34m:\u001b[0m \u001b[0mUnion\u001b[0m\u001b[0;34m[\u001b[0m\u001b[0mtf\u001b[0m\u001b[0;34m.\u001b[0m\u001b[0mTensor\u001b[0m\u001b[0;34m,\u001b[0m \u001b[0;32mNone\u001b[0m\u001b[0;34m]\u001b[0m\u001b[0;34m,\u001b[0m\u001b[0;34m\u001b[0m\u001b[0;34m\u001b[0m\u001b[0m\n\u001b[1;32m     65\u001b[0m                                        \u001b[0mmethod\u001b[0m\u001b[0;34m:\u001b[0m \u001b[0mstr\u001b[0m \u001b[0;34m=\u001b[0m \u001b[0;34m'lu'\u001b[0m\u001b[0;34m,\u001b[0m\u001b[0;34m\u001b[0m\u001b[0;34m\u001b[0m\u001b[0m\n\u001b[0;32m---> 66\u001b[0;31m                                        cg_kwargs: Union[Dict, None] = None) -> tf.Tensor:\n\u001b[0m\u001b[1;32m     67\u001b[0m     \"\"\" Solves the linear FEM problem with Dirichlet boundary conditions.\n\u001b[1;32m     68\u001b[0m \u001b[0;34m\u001b[0m\u001b[0m\n",
      "\u001b[0;31mNameError\u001b[0m: name 'Dict' is not defined"
     ]
    }
   ],
   "source": [
    "import numpy as np\n",
    "import tensorflow as tf\n",
    "import tenfem\n",
    "import matplotlib.pyplot as plt\n",
    "from tenfem.layers import (AssembleStiffnessMatrix,\n",
    "                           AssembleLoadVector, )\n",
    "from tenfem.fem import dirichlet_form_linear_system\n",
    "\n",
    "from tensorflow.linalg.experimental import conjugate_gradient\n",
    "\n",
    "tf_dtype = tf.float32"
   ]
  },
  {
   "cell_type": "code",
   "execution_count": null,
   "metadata": {},
   "outputs": [],
   "source": [
    "# create our mesh\n",
    "mesh = tenfem.mesh.examples.square(16, 16, dtype=tf_dtype)\n",
    "mesh = tenfem.mesh.triangle.convert_linear_to_quadratic(mesh)\n",
    "element = tenfem.reference_elements.TriangleElement(degree=2, dtype=tf_dtype)"
   ]
  },
  {
   "cell_type": "code",
   "execution_count": null,
   "metadata": {},
   "outputs": [],
   "source": [
    "diffusion_coefficient = lambda x: tf.ones_like(x[..., 0])\n",
    "\n",
    "mesh_tensor_repr = mesh.get_tensor_repr()\n",
    "stiffness_matrix = AssembleStiffnessMatrix(diffusion_coefficient,\n",
    "                                           reference_element=element)(mesh_tensor_repr)\n",
    "\n",
    "load_vector = AssembleLoadVector(lambda x: tf.ones_like(x)[..., 0],\n",
    "                                 reference_element=element)(mesh_tensor_repr)"
   ]
  },
  {
   "cell_type": "code",
   "execution_count": null,
   "metadata": {},
   "outputs": [],
   "source": [
    "A = stiffness_matrix[0]\n",
    "b = load_vector[0]"
   ]
  },
  {
   "cell_type": "code",
   "execution_count": null,
   "metadata": {},
   "outputs": [],
   "source": [
    "A.shape, b.shape"
   ]
  },
  {
   "cell_type": "code",
   "execution_count": null,
   "metadata": {},
   "outputs": [],
   "source": [
    "_, _, _, node_types = mesh.get_tensor_repr()\n",
    "ao, bo = dirichlet_form_linear_system(A, b, node_types)"
   ]
  },
  {
   "cell_type": "code",
   "execution_count": null,
   "metadata": {},
   "outputs": [],
   "source": [
    "ao.shape, bo.shape"
   ]
  },
  {
   "cell_type": "code",
   "execution_count": null,
   "metadata": {},
   "outputs": [],
   "source": [
    "def solve_lu(A, b):\n",
    "    lu, p = tf.linalg.lu(A)\n",
    "    return tf.linalg.lu_solve(lu, p, b)\n",
    "\n",
    "def solve_cg(A, b):\n",
    "    A = tf.linalg.LinearOperatorFullMatrix(\n",
    "        A, is_self_adjoint=True, is_positive_definite=True)\n",
    "    return conjugate_gradient(A, b, tol=1e-5, max_iter=50)\n",
    "\n",
    "import time\n",
    "t0 = time.time()\n",
    "u1 = solve_lu(ao, bo)\n",
    "t1 = time.time()\n",
    "print(t1-t0)\n",
    "\n",
    "t0 = time.time()\n",
    "u2 = solve_cg(ao, bo[..., 0])\n",
    "t1 = time.time()\n",
    "print(t1 - t0)"
   ]
  },
  {
   "cell_type": "code",
   "execution_count": null,
   "metadata": {},
   "outputs": [],
   "source": [
    "np.max(np.abs(u1[..., 0] - u2.x))"
   ]
  },
  {
   "cell_type": "code",
   "execution_count": null,
   "metadata": {},
   "outputs": [],
   "source": [
    "A = stiffness_matrix[0].numpy()\n",
    "mask = (np.abs(A) < 1e-8).astype(np.intp)\n",
    "\n",
    "plt.imshow(mask, cmap=plt.cm.gray)"
   ]
  },
  {
   "cell_type": "code",
   "execution_count": null,
   "metadata": {},
   "outputs": [],
   "source": [
    "1 - np.sum(mask) / A.size"
   ]
  },
  {
   "cell_type": "code",
   "execution_count": null,
   "metadata": {},
   "outputs": [],
   "source": [
    "b = tf.random.normal(shape=[mesh.n_nodes, 1])"
   ]
  },
  {
   "cell_type": "code",
   "execution_count": null,
   "metadata": {},
   "outputs": [],
   "source": [
    "import time\n",
    "t0 = time.time()\n",
    "res = tf.matmul(A, b)\n",
    "t1 = time.time()\n",
    "print(t1 - t0)"
   ]
  },
  {
   "cell_type": "code",
   "execution_count": null,
   "metadata": {},
   "outputs": [],
   "source": [
    "import time\n",
    "t0 = time.time()\n",
    "res = tf.linalg.matmul(A, b, a_is_sparse=True)\n",
    "t1 = time.time()\n",
    "print(t1 - t0)"
   ]
  },
  {
   "cell_type": "code",
   "execution_count": null,
   "metadata": {},
   "outputs": [],
   "source": [
    "element_dim = element.element_dim\n",
    "mesh_quadrature_nodes = element.get_quadrature_nodes(mesh)\n",
    "# mesh_quadrature_nodes.shape # [n_elements, element_dim, spatial_dim]\n",
    "spatial_dim = tf.shape(mesh_quadrature_nodes)[-1]\n",
    "flat_mesh_quadrature_nodes = tf.reshape(mesh_quadrature_nodes, [-1, 2])\n",
    "\n",
    "diffusion_coeff_vals = tf.reshape(\n",
    "    diffusion_coefficient(flat_mesh_quadrature_nodes),\n",
    "    [-1, mesh.n_elements, element_dim])\n",
    "\n",
    "\n",
    "local_stiffness_mat = tenfem.fem.assemble_local_stiffness_matrix(\n",
    "    diffusion_coeff_vals, mesh, element)"
   ]
  },
  {
   "cell_type": "code",
   "execution_count": null,
   "metadata": {},
   "outputs": [],
   "source": [
    "local_stiffness_mat.shape # [1, n_elements, 6, 6]"
   ]
  },
  {
   "cell_type": "code",
   "execution_count": null,
   "metadata": {},
   "outputs": [],
   "source": [
    "a_local = local_stiffness_mat.shape[0]"
   ]
  },
  {
   "cell_type": "code",
   "execution_count": null,
   "metadata": {},
   "outputs": [],
   "source": [
    "inds = tenfem.fem.indexing_utils.get_batched_element_indices(\n",
    "    mesh.elements[tf.newaxis, ...])"
   ]
  },
  {
   "cell_type": "code",
   "execution_count": null,
   "metadata": {},
   "outputs": [],
   "source": [
    "mesh.elements.shape"
   ]
  },
  {
   "cell_type": "code",
   "execution_count": null,
   "metadata": {},
   "outputs": [],
   "source": [
    "inds"
   ]
  },
  {
   "cell_type": "code",
   "execution_count": null,
   "metadata": {},
   "outputs": [],
   "source": []
  }
 ],
 "metadata": {
  "kernelspec": {
   "display_name": "Python (tenfem)",
   "language": "python",
   "name": "tenfem-cpu"
  },
  "language_info": {
   "codemirror_mode": {
    "name": "ipython",
    "version": 3
   },
   "file_extension": ".py",
   "mimetype": "text/x-python",
   "name": "python",
   "nbconvert_exporter": "python",
   "pygments_lexer": "ipython3",
   "version": "3.7.6"
  }
 },
 "nbformat": 4,
 "nbformat_minor": 4
}
