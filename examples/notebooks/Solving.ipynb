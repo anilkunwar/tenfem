{
 "cells": [
  {
   "cell_type": "markdown",
   "metadata": {},
   "source": [
    "This test notebook explores the use of Conguate gradients to perform the solve"
   ]
  },
  {
   "cell_type": "code",
   "execution_count": 17,
   "metadata": {},
   "outputs": [],
   "source": [
    "import numpy as np\n",
    "import tensorflow as tf\n",
    "import tenfem\n",
    "import matplotlib.pyplot as plt\n",
    "from tenfem.layers import (AssembleStiffnessMatrix,\n",
    "                           AssembleLoadVector)\n",
    "\n",
    "from tensorflow.linalg.experimental import conjugate_gradient\n",
    "\n",
    "tf_dtype = tf.float32"
   ]
  },
  {
   "cell_type": "code",
   "execution_count": 18,
   "metadata": {},
   "outputs": [],
   "source": [
    "# create our mesh\n",
    "mesh = tenfem.mesh.examples.square(2, 2, dtype=tf_dtype)\n",
    "mesh = tenfem.mesh.triangle.convert_linear_to_quadratic(mesh)\n",
    "element = tenfem.reference_elements.TriangleElement(degree=2, dtype=tf_dtype)"
   ]
  },
  {
   "cell_type": "code",
   "execution_count": 19,
   "metadata": {},
   "outputs": [],
   "source": [
    "diffusion_coefficient = lambda x: tf.ones_like(x[..., 0])\n",
    "\n",
    "mesh_tensor_repr = mesh.get_tensor_repr()\n",
    "stiffness_matrix = AssembleStiffnessMatrix(diffusion_coefficient,\n",
    "                                           reference_element=element)(mesh_tensor_repr)\n",
    "\n",
    "load_vector = AssembleLoadVector(lambda x: tf.ones_like(x)[..., 0],\n",
    "                                 reference_element=element)(mesh_tensor_repr)"
   ]
  },
  {
   "cell_type": "code",
   "execution_count": 22,
   "metadata": {},
   "outputs": [],
   "source": [
    "A = stiffness_matrix[0]\n",
    "b = load_vector[0]"
   ]
  },
  {
   "cell_type": "code",
   "execution_count": null,
   "metadata": {},
   "outputs": [],
   "source": [
    "mesh.get_tensor_repr()"
   ]
  },
  {
   "cell_type": "code",
   "execution_count": 4,
   "metadata": {},
   "outputs": [
    {
     "data": {
      "text/plain": [
       "<matplotlib.image.AxesImage at 0x7f91813bdb50>"
      ]
     },
     "execution_count": 4,
     "metadata": {},
     "output_type": "execute_result"
    },
    {
     "data": {
      "image/png": "[encoded data removed]",
      "text/plain": [
       "<Figure size 432x288 with 1 Axes>"
      ]
     },
     "metadata": {
      "needs_background": "light"
     },
     "output_type": "display_data"
    }
   ],
   "source": [
    "A = stiffness_matrix[0].numpy()\n",
    "mask = (np.abs(A) < 1e-8).astype(np.intp)\n",
    "\n",
    "plt.imshow(mask, cmap=plt.cm.gray)"
   ]
  },
  {
   "cell_type": "code",
   "execution_count": 5,
   "metadata": {},
   "outputs": [
    {
     "data": {
      "text/plain": [
       "0.7283950617283951"
      ]
     },
     "execution_count": 5,
     "metadata": {},
     "output_type": "execute_result"
    }
   ],
   "source": [
    "1 - np.sum(mask) / A.size"
   ]
  },
  {
   "cell_type": "code",
   "execution_count": 6,
   "metadata": {},
   "outputs": [],
   "source": [
    "b = tf.random.normal(shape=[mesh.n_nodes, 1])"
   ]
  },
  {
   "cell_type": "code",
   "execution_count": 7,
   "metadata": {},
   "outputs": [
    {
     "name": "stdout",
     "output_type": "stream",
     "text": [
      "0.00038504600524902344\n"
     ]
    }
   ],
   "source": [
    "import time\n",
    "t0 = time.time()\n",
    "res = tf.matmul(A, b)\n",
    "t1 = time.time()\n",
    "print(t1 - t0)"
   ]
  },
  {
   "cell_type": "code",
   "execution_count": 8,
   "metadata": {},
   "outputs": [
    {
     "name": "stdout",
     "output_type": "stream",
     "text": [
      "WARNING:tensorflow:From /Users/danieltait/anaconda3/envs/tenfem2/lib/python3.7/site-packages/tensorflow/python/ops/math_ops.py:2975: sparse_mat_mul (from tensorflow.python.ops.gen_math_ops) is deprecated and will be removed in a future version.\n",
      "Instructions for updating:\n",
      "Use `tf.linalg.matmul` instead\n",
      "0.0013027191162109375\n"
     ]
    }
   ],
   "source": [
    "import time\n",
    "t0 = time.time()\n",
    "res = tf.linalg.matmul(A, b, a_is_sparse=True)\n",
    "t1 = time.time()\n",
    "print(t1 - t0)"
   ]
  },
  {
   "cell_type": "code",
   "execution_count": 9,
   "metadata": {},
   "outputs": [],
   "source": [
    "element_dim = element.element_dim\n",
    "mesh_quadrature_nodes = element.get_quadrature_nodes(mesh)\n",
    "# mesh_quadrature_nodes.shape # [n_elements, element_dim, spatial_dim]\n",
    "spatial_dim = tf.shape(mesh_quadrature_nodes)[-1]\n",
    "flat_mesh_quadrature_nodes = tf.reshape(mesh_quadrature_nodes, [-1, 2])\n",
    "\n",
    "diffusion_coeff_vals = tf.reshape(\n",
    "    diffusion_coefficient(flat_mesh_quadrature_nodes),\n",
    "    [-1, mesh.n_elements, element_dim])\n",
    "\n",
    "\n",
    "local_stiffness_mat = tenfem.fem.assemble_local_stiffness_matrix(\n",
    "    diffusion_coeff_vals, mesh, element)"
   ]
  },
  {
   "cell_type": "code",
   "execution_count": 10,
   "metadata": {},
   "outputs": [
    {
     "data": {
      "text/plain": [
       "TensorShape([1, 2, 6, 6])"
      ]
     },
     "execution_count": 10,
     "metadata": {},
     "output_type": "execute_result"
    }
   ],
   "source": [
    "local_stiffness_mat.shape # [1, n_elements, 6, 6]"
   ]
  },
  {
   "cell_type": "code",
   "execution_count": 11,
   "metadata": {},
   "outputs": [],
   "source": [
    "a_local = local_stiffness_mat.shape[0]"
   ]
  },
  {
   "cell_type": "code",
   "execution_count": 12,
   "metadata": {},
   "outputs": [],
   "source": [
    "inds = tenfem.fem.indexing_utils.get_batched_element_indices(\n",
    "    mesh.elements[tf.newaxis, ...])"
   ]
  },
  {
   "cell_type": "code",
   "execution_count": 13,
   "metadata": {},
   "outputs": [
    {
     "data": {
      "text/plain": [
       "TensorShape([2, 6])"
      ]
     },
     "execution_count": 13,
     "metadata": {},
     "output_type": "execute_result"
    }
   ],
   "source": [
    "mesh.elements.shape"
   ]
  },
  {
   "cell_type": "code",
   "execution_count": 14,
   "metadata": {},
   "outputs": [
    {
     "data": {
      "text/plain": [
       "<tf.Tensor: shape=(72, 3), dtype=int32, numpy=\n",
       "array([[0, 3, 3],\n",
       "       [0, 3, 2],\n",
       "       [0, 3, 0],\n",
       "       [0, 3, 5],\n",
       "       [0, 3, 6],\n",
       "       [0, 3, 4],\n",
       "       [0, 2, 3],\n",
       "       [0, 2, 2],\n",
       "       [0, 2, 0],\n",
       "       [0, 2, 5],\n",
       "       [0, 2, 6],\n",
       "       [0, 2, 4],\n",
       "       [0, 0, 3],\n",
       "       [0, 0, 2],\n",
       "       [0, 0, 0],\n",
       "       [0, 0, 5],\n",
       "       [0, 0, 6],\n",
       "       [0, 0, 4],\n",
       "       [0, 5, 3],\n",
       "       [0, 5, 2],\n",
       "       [0, 5, 0],\n",
       "       [0, 5, 5],\n",
       "       [0, 5, 6],\n",
       "       [0, 5, 4],\n",
       "       [0, 6, 3],\n",
       "       [0, 6, 2],\n",
       "       [0, 6, 0],\n",
       "       [0, 6, 5],\n",
       "       [0, 6, 6],\n",
       "       [0, 6, 4],\n",
       "       [0, 4, 3],\n",
       "       [0, 4, 2],\n",
       "       [0, 4, 0],\n",
       "       [0, 4, 5],\n",
       "       [0, 4, 6],\n",
       "       [0, 4, 4],\n",
       "       [0, 1, 1],\n",
       "       [0, 1, 3],\n",
       "       [0, 1, 0],\n",
       "       [0, 1, 6],\n",
       "       [0, 1, 8],\n",
       "       [0, 1, 7],\n",
       "       [0, 3, 1],\n",
       "       [0, 3, 3],\n",
       "       [0, 3, 0],\n",
       "       [0, 3, 6],\n",
       "       [0, 3, 8],\n",
       "       [0, 3, 7],\n",
       "       [0, 0, 1],\n",
       "       [0, 0, 3],\n",
       "       [0, 0, 0],\n",
       "       [0, 0, 6],\n",
       "       [0, 0, 8],\n",
       "       [0, 0, 7],\n",
       "       [0, 6, 1],\n",
       "       [0, 6, 3],\n",
       "       [0, 6, 0],\n",
       "       [0, 6, 6],\n",
       "       [0, 6, 8],\n",
       "       [0, 6, 7],\n",
       "       [0, 8, 1],\n",
       "       [0, 8, 3],\n",
       "       [0, 8, 0],\n",
       "       [0, 8, 6],\n",
       "       [0, 8, 8],\n",
       "       [0, 8, 7],\n",
       "       [0, 7, 1],\n",
       "       [0, 7, 3],\n",
       "       [0, 7, 0],\n",
       "       [0, 7, 6],\n",
       "       [0, 7, 8],\n",
       "       [0, 7, 7]], dtype=int32)>"
      ]
     },
     "execution_count": 14,
     "metadata": {},
     "output_type": "execute_result"
    }
   ],
   "source": [
    "inds"
   ]
  },
  {
   "cell_type": "code",
   "execution_count": null,
   "metadata": {},
   "outputs": [],
   "source": []
  }
 ],
 "metadata": {
  "kernelspec": {
   "display_name": "Python (tenfem)",
   "language": "python",
   "name": "tenfem-cpu"
  },
  "language_info": {
   "codemirror_mode": {
    "name": "ipython",
    "version": 3
   },
   "file_extension": ".py",
   "mimetype": "text/x-python",
   "name": "python",
   "nbconvert_exporter": "python",
   "pygments_lexer": "ipython3",
   "version": "3.7.6"
  }
 },
 "nbformat": 4,
 "nbformat_minor": 4
}
