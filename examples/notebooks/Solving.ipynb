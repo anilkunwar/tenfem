{
 "cells": [
  {
   "cell_type": "markdown",
   "metadata": {},
   "source": [
    "This test notebook explores the use of Conguate gradients to perform the solve"
   ]
  },
  {
   "cell_type": "code",
   "execution_count": 1,
   "metadata": {},
   "outputs": [],
   "source": [
    "import numpy as np\n",
    "import tensorflow as tf\n",
    "import tenfem\n",
    "import matplotlib.pyplot as plt\n",
    "from tenfem.layers import (AssembleStiffnessMatrix,\n",
    "                           AssembleLoadVector, )\n",
    "from tenfem.fem import dirichlet_form_linear_system\n",
    "\n",
    "from tensorflow.linalg.experimental import conjugate_gradient\n",
    "\n",
    "tf_dtype = tf.float32"
   ]
  },
  {
   "cell_type": "code",
   "execution_count": 31,
   "metadata": {},
   "outputs": [],
   "source": [
    "# create our mesh\n",
    "mesh = tenfem.mesh.examples.square(16, 16, dtype=tf_dtype)\n",
    "mesh = tenfem.mesh.triangle.convert_linear_to_quadratic(mesh)\n",
    "element = tenfem.reference_elements.TriangleElement(degree=2, dtype=tf_dtype)"
   ]
  },
  {
   "cell_type": "code",
   "execution_count": 32,
   "metadata": {},
   "outputs": [],
   "source": [
    "diffusion_coefficient = lambda x: tf.ones_like(x[..., 0])\n",
    "\n",
    "mesh_tensor_repr = mesh.get_tensor_repr()\n",
    "stiffness_matrix = AssembleStiffnessMatrix(diffusion_coefficient,\n",
    "                                           reference_element=element)(mesh_tensor_repr)\n",
    "\n",
    "load_vector = AssembleLoadVector(lambda x: tf.ones_like(x)[..., 0],\n",
    "                                 reference_element=element)(mesh_tensor_repr)"
   ]
  },
  {
   "cell_type": "code",
   "execution_count": 33,
   "metadata": {},
   "outputs": [],
   "source": [
    "A = stiffness_matrix[0]\n",
    "b = load_vector[0]"
   ]
  },
  {
   "cell_type": "code",
   "execution_count": 34,
   "metadata": {},
   "outputs": [
    {
     "data": {
      "text/plain": [
       "(TensorShape([961, 961]), TensorShape([961, 1]))"
      ]
     },
     "execution_count": 34,
     "metadata": {},
     "output_type": "execute_result"
    }
   ],
   "source": [
    "A.shape, b.shape"
   ]
  },
  {
   "cell_type": "code",
   "execution_count": 35,
   "metadata": {},
   "outputs": [],
   "source": [
    "_, _, _, node_types = mesh.get_tensor_repr()\n",
    "ao, bo = dirichlet_form_linear_system(A, b, node_types)"
   ]
  },
  {
   "cell_type": "code",
   "execution_count": 36,
   "metadata": {},
   "outputs": [
    {
     "data": {
      "text/plain": [
       "(TensorShape([841, 841]), TensorShape([841, 1]))"
      ]
     },
     "execution_count": 36,
     "metadata": {},
     "output_type": "execute_result"
    }
   ],
   "source": [
    "ao.shape, bo.shape"
   ]
  },
  {
   "cell_type": "code",
   "execution_count": 37,
   "metadata": {},
   "outputs": [
    {
     "name": "stdout",
     "output_type": "stream",
     "text": [
      "0.06401896476745605\n",
      "0.06029391288757324\n"
     ]
    }
   ],
   "source": [
    "def solve_lu(A, b):\n",
    "    lu, p = tf.linalg.lu(A)\n",
    "    return tf.linalg.lu_solve(lu, p, b)\n",
    "\n",
    "def solve_cg(A, b):\n",
    "    A = tf.linalg.LinearOperatorFullMatrix(\n",
    "        A, is_self_adjoint=True, is_positive_definite=True)\n",
    "    return conjugate_gradient(A, b, tol=1e-5, max_iter=50)\n",
    "\n",
    "import time\n",
    "t0 = time.time()\n",
    "u1 = solve_lu(ao, bo)\n",
    "t1 = time.time()\n",
    "print(t1-t0)\n",
    "\n",
    "t0 = time.time()\n",
    "u2 = solve_cg(ao, bo[..., 0])\n",
    "t1 = time.time()\n",
    "print(t1 - t0)"
   ]
  },
  {
   "cell_type": "code",
   "execution_count": 29,
   "metadata": {},
   "outputs": [
    {
     "data": {
      "text/plain": [
       "0.0007326603"
      ]
     },
     "execution_count": 29,
     "metadata": {},
     "output_type": "execute_result"
    }
   ],
   "source": [
    "np.max(np.abs(u1[..., 0] - u2.x))"
   ]
  },
  {
   "cell_type": "code",
   "execution_count": 30,
   "metadata": {},
   "outputs": [
    {
     "data": {
      "text/plain": [
       "<matplotlib.image.AxesImage at 0x7fc7b87dc690>"
      ]
     },
     "execution_count": 30,
     "metadata": {},
     "output_type": "execute_result"
    },
    {
     "data": {
      "image/png": "[encoded data removed]",
      "text/plain": [
       "<Figure size 432x288 with 1 Axes>"
      ]
     },
     "metadata": {
      "needs_background": "light"
     },
     "output_type": "display_data"
    }
   ],
   "source": [
    "A = stiffness_matrix[0].numpy()\n",
    "mask = (np.abs(A) < 1e-8).astype(np.intp)\n",
    "\n",
    "plt.imshow(mask, cmap=plt.cm.gray)"
   ]
  },
  {
   "cell_type": "code",
   "execution_count": 11,
   "metadata": {},
   "outputs": [
    {
     "data": {
      "text/plain": [
       "0.011370613120871065"
      ]
     },
     "execution_count": 11,
     "metadata": {},
     "output_type": "execute_result"
    }
   ],
   "source": [
    "1 - np.sum(mask) / A.size"
   ]
  },
  {
   "cell_type": "code",
   "execution_count": 12,
   "metadata": {},
   "outputs": [],
   "source": [
    "b = tf.random.normal(shape=[mesh.n_nodes, 1])"
   ]
  },
  {
   "cell_type": "code",
   "execution_count": 13,
   "metadata": {},
   "outputs": [
    {
     "name": "stdout",
     "output_type": "stream",
     "text": [
      "0.0007638931274414062\n"
     ]
    }
   ],
   "source": [
    "import time\n",
    "t0 = time.time()\n",
    "res = tf.matmul(A, b)\n",
    "t1 = time.time()\n",
    "print(t1 - t0)"
   ]
  },
  {
   "cell_type": "code",
   "execution_count": 14,
   "metadata": {},
   "outputs": [
    {
     "name": "stdout",
     "output_type": "stream",
     "text": [
      "WARNING:tensorflow:From /Users/danieltait/anaconda3/envs/tenfem2/lib/python3.7/site-packages/tensorflow/python/ops/math_ops.py:2975: sparse_mat_mul (from tensorflow.python.ops.gen_math_ops) is deprecated and will be removed in a future version.\n",
      "Instructions for updating:\n",
      "Use `tf.linalg.matmul` instead\n",
      "0.0020868778228759766\n"
     ]
    }
   ],
   "source": [
    "import time\n",
    "t0 = time.time()\n",
    "res = tf.linalg.matmul(A, b, a_is_sparse=True)\n",
    "t1 = time.time()\n",
    "print(t1 - t0)"
   ]
  },
  {
   "cell_type": "code",
   "execution_count": 15,
   "metadata": {},
   "outputs": [],
   "source": [
    "element_dim = element.element_dim\n",
    "mesh_quadrature_nodes = element.get_quadrature_nodes(mesh)\n",
    "# mesh_quadrature_nodes.shape # [n_elements, element_dim, spatial_dim]\n",
    "spatial_dim = tf.shape(mesh_quadrature_nodes)[-1]\n",
    "flat_mesh_quadrature_nodes = tf.reshape(mesh_quadrature_nodes, [-1, 2])\n",
    "\n",
    "diffusion_coeff_vals = tf.reshape(\n",
    "    diffusion_coefficient(flat_mesh_quadrature_nodes),\n",
    "    [-1, mesh.n_elements, element_dim])\n",
    "\n",
    "\n",
    "local_stiffness_mat = tenfem.fem.assemble_local_stiffness_matrix(\n",
    "    diffusion_coeff_vals, mesh, element)"
   ]
  },
  {
   "cell_type": "code",
   "execution_count": 16,
   "metadata": {},
   "outputs": [
    {
     "data": {
      "text/plain": [
       "TensorShape([1, 450, 6, 6])"
      ]
     },
     "execution_count": 16,
     "metadata": {},
     "output_type": "execute_result"
    }
   ],
   "source": [
    "local_stiffness_mat.shape # [1, n_elements, 6, 6]"
   ]
  },
  {
   "cell_type": "code",
   "execution_count": 17,
   "metadata": {},
   "outputs": [],
   "source": [
    "a_local = local_stiffness_mat.shape[0]"
   ]
  },
  {
   "cell_type": "code",
   "execution_count": 18,
   "metadata": {},
   "outputs": [],
   "source": [
    "inds = tenfem.fem.indexing_utils.get_batched_element_indices(\n",
    "    mesh.elements[tf.newaxis, ...])"
   ]
  },
  {
   "cell_type": "code",
   "execution_count": 19,
   "metadata": {},
   "outputs": [
    {
     "data": {
      "text/plain": [
       "TensorShape([450, 6])"
      ]
     },
     "execution_count": 19,
     "metadata": {},
     "output_type": "execute_result"
    }
   ],
   "source": [
    "mesh.elements.shape"
   ]
  },
  {
   "cell_type": "code",
   "execution_count": 20,
   "metadata": {},
   "outputs": [
    {
     "data": {
      "text/plain": [
       "<tf.Tensor: shape=(16200, 3), dtype=int32, numpy=\n",
       "array([[  0,   1,   1],\n",
       "       [  0,   1,  16],\n",
       "       [  0,   1,   0],\n",
       "       ...,\n",
       "       [  0, 954, 960],\n",
       "       [  0, 954, 930],\n",
       "       [  0, 954, 954]], dtype=int32)>"
      ]
     },
     "execution_count": 20,
     "metadata": {},
     "output_type": "execute_result"
    }
   ],
   "source": [
    "inds"
   ]
  },
  {
   "cell_type": "code",
   "execution_count": null,
   "metadata": {},
   "outputs": [],
   "source": []
  }
 ],
 "metadata": {
  "kernelspec": {
   "display_name": "Python (tenfem)",
   "language": "python",
   "name": "tenfem-cpu"
  },
  "language_info": {
   "codemirror_mode": {
    "name": "ipython",
    "version": 3
   },
   "file_extension": ".py",
   "mimetype": "text/x-python",
   "name": "python",
   "nbconvert_exporter": "python",
   "pygments_lexer": "ipython3",
   "version": "3.7.6"
  }
 },
 "nbformat": 4,
 "nbformat_minor": 4
}
