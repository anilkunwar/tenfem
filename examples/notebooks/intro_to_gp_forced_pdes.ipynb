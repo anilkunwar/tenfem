{
 "cells": [
  {
   "cell_type": "markdown",
   "metadata": {},
   "source": [
    "# Introduction\n",
    "\n",
    "In this note we provide an introduction to the creation of a rich class of Gaussian\n",
    "processes constructed by the following two step procedure\n",
    "\n",
    "1. Specify a Gaussian source function for a linear PDE\n",
    "2. Solve the PDE to produce a new Gaussian process\n",
    "\n",
    "We will discuss the basics of the theory, and show how to implement these\n",
    "models in `Tenfem`, both to analyticaly solve for the covariance matrix, and\n",
    "to to solve these models as part of ensemble variational layers in the style\n",
    "of `tensorflow_probability` layers. \n",
    "\n",
    "First some basic imports"
   ]
  },
  {
   "cell_type": "code",
   "execution_count": 10,
   "metadata": {},
   "outputs": [],
   "source": [
    "import numpy as np\n",
    "import tensorflow as tf\n",
    "import tensorflow_probability as tfp\n",
    "tf.keras.backend.set_floatx('float64')\n",
    "import tenfem\n",
    "import matplotlib.pyplot as plt\n",
    "from typing import Callable\n",
    "from matplotlib.collections import LineCollection\n",
    "from matplotlib.tri import Triangulation\n",
    "from tenfem.layers import (AssembleStiffnessMatrix, AssembleLoadVector, SolveDirichletProblem,\n",
    "                           TriangleMeshInterpolator)\n",
    "\n",
    "tf_dtype = tf.float64\n",
    "tfk = tf.keras\n",
    "tfkl = tf.keras.layers\n",
    "tfpl = tfp.layers\n",
    "tfd = tfp.distributions\n",
    "\n",
    "tf.random.set_seed(248)\n",
    "np.set_printoptions(precision=3, suppress=True)\n",
    "num_inducing_points = 50"
   ]
  },
  {
   "cell_type": "markdown",
   "metadata": {},
   "source": [
    "# Background\n",
    "\n",
    "Solving a linear PDE like\n",
    "\n",
    "$$\n",
    "    \\mathcal{L}u(x) = f(x),\n",
    "$$\n",
    "\n",
    "can be thought of as an operator which maps the source term $f(x)$ to a new function\n",
    "$u(x)$, this operator is linear and so properties, such as Gaussianity, are preserved.\n",
    "In this note we explore a little bit more of this feature, in particular it allows\n",
    "us to regard PDEs as a special form of *mechanistically inspired smoothing kernel*, and\n",
    "and so make their use much natural for people in the statistical and machine learning\n",
    "communities who are more likely to be familiar with Gaussian processes.\n",
    "\n",
    "Formally we might write this convolution as\n",
    "\n",
    "$$\n",
    "    u(x) = \\mathcal{L}^{-1}f(x), \n",
    "$$\n",
    "\n",
    "then if $f(x) \\sim \\mathcal{GP}(0, k_f(x, x'))$, we have\n",
    "\n",
    "$$\n",
    "    u(x) \\sim \\mathcal{GP}(0, \\mathcal{L}^{-1} \\otimes \\mathcal{L}^{-\\top} [k] (x, x') ),\n",
    "$$\n",
    "\n",
    "but what does this mean? This notebook demonstrates the basic idea while using the functionality\n",
    "of `Tenfem` to explore these features\n",
    "\n",
    "## Green's functions and kernels\n",
    "\n",
    "The *Green's function*, say $k_x(x')$, of a linear PDE is a solution to the problem\n",
    "\n",
    "$$\n",
    "    \\mathcal{L} k_x(y) = \\delta(x-y), \\qquad y \\in \\Omega\n",
    "$$\n",
    "\n",
    "where $\\delta(x-x')$ is the Dirac delta function. Knowing this solution for the Dirac delta source\n",
    "allows one to obtain the solution for a General source by the convolution\n",
    "\n",
    "$$\n",
    "    u(x) = \\int_{\\Omega} k_x(y) f(y) dy\n",
    "$$\n",
    "\n",
    "Lets make this clearer with an example, let our domain be $\\Omega = [0, 1]$ and our operator \n",
    "be the *negative Laplacian* $\\mathcal{L} = -\\Delta = -\\frac{\\partial^2}{\\partial x}$, \n",
    "then one can check that a Greens function for this problem is given by\n",
    "\n",
    "$$\n",
    "    k(x, y) = \\begin{cases} x(1-y) \\qquad &\\text{if } x \\leq y \\\\\n",
    "    y(1-x) \\quad &\\text{otherwise.}\n",
    "    \\end{cases}\n",
    "$$\n",
    "\n",
    "the covariance operator of the Brownian bridge on $[0, 1]$. So then a solution is given by\n",
    "the convolution\n",
    "\n",
    "$$\n",
    "\\begin{align}\n",
    "   u(x) &= \\left(-\\frac{\\partial^2}{\\partial x^2}\\right)^{-1} \\\\\n",
    "   &=\\int_{0}^{x}x(1-y) f(y) dy + \\int_{x}^{1}y(1-x)f(y) dy.\n",
    "\\end{align}\n",
    "$$"
   ]
  },
  {
   "cell_type": "code",
   "execution_count": 11,
   "metadata": {},
   "outputs": [
    {
     "data": {
      "image/png": "[encoded data removed]",
      "text/plain": [
       "<Figure size 576x288 with 1 Axes>"
      ]
     },
     "metadata": {
      "needs_background": "light"
     },
     "output_type": "display_data"
    }
   ],
   "source": [
    "def build_interval_mesh_and_element(n_nodes):\n",
    "    \"\"\" Build an `IntervalMesh` on the interval [0, 1] and the reference element. \"\"\"\n",
    "    a, b = (0, 1)\n",
    "    nodes = np.linspace(a, b, n_nodes)[:, np.newaxis]\n",
    "    elements = np.column_stack((np.arange(0, n_nodes-1), np.arange(1, n_nodes)))\n",
    "    boundary_elements = [[0, ], [n_nodes-1, ]]\n",
    "    ref_element = tenfem.reference_elements.IntervalElement(degree=1, dtype=tf.float64)\n",
    "    return tenfem.mesh.IntervalMesh(nodes, elements, boundary_elements), ref_element\n",
    "\n",
    "def bb_kernel(x, y):\n",
    "    \"\"\" Covariance function of the Brownian bridge. \"\"\"\n",
    "    x = np.atleast_1d(x)\n",
    "    y = np.atleast_1d(y)\n",
    "    return tf.squeeze(tf.where(x <= y, x*(1-y), y*(1-x)))\n",
    "\n",
    "\n",
    "def f(x):\n",
    "    return 1.\n",
    "\n",
    "n_nodes = 25\n",
    "mesh, element = build_interval_mesh_and_element(n_nodes)\n",
    "\n",
    "xx = np.linspace(0., 1.)\n",
    "vals = []\n",
    "for x in xx:\n",
    "    vals.append(element.quadrature(lambda y: f(y) * bb_kernel(x, y), mesh))\n",
    "\n",
    "fig, ax = plt.subplots(figsize=(8, 4))\n",
    "ax.plot(xx, vals, label='Quadrature approximation')\n",
    "ax.plot(xx, .5*xx*(1-xx), 'o', markeredgecolor='k', label='Exact solution, $u(x) = x(1-x)/2$')\n",
    "ax.legend()\n",
    "ax.grid()\n",
    "plt.show()"
   ]
  },
  {
   "cell_type": "code",
   "execution_count": 12,
   "metadata": {},
   "outputs": [
    {
     "data": {
      "image/png": "[encoded data removed]",
      "text/plain": [
       "<Figure size 432x288 with 2 Axes>"
      ]
     },
     "metadata": {},
     "output_type": "display_data"
    }
   ],
   "source": [
    "xx = mesh.nodes[:, 0].numpy().copy()\n",
    "x1 = xx[:, None]\n",
    "x2 = xx[None, :]\n",
    "k = bb_kernel(x1, x2)\n",
    "kinv = np.zeros_like(k)\n",
    "kinv[1:-1, 1:-1] = np.linalg.inv(k[1:-1, 1:-1])\n",
    "fig, axes = plt.subplots(ncols=2)\n",
    "axes[0].imshow(k)\n",
    "axes[1].imshow(kinv)\n",
    "\n",
    "titles = ['Brownian bridge covariance',\n",
    "          'Brownian bridge precision', ]\n",
    "\n",
    "\n",
    "for i, ax in enumerate(axes.ravel()):\n",
    "    for method in [ax.set_xticks, ax.set_yticks]:\n",
    "        method([])\n",
    "    ax.set_title(titles[i])\n",
    "plt.show()"
   ]
  },
  {
   "cell_type": "markdown",
   "metadata": {},
   "source": [
    "## Using `tenfem` to repeat the above\n",
    "\n",
    "We have written the solution above formally as \n",
    "\n",
    "$$\n",
    "    u(x) = \\mathcal{L}^{-1} f(x),\n",
    "$$\n",
    "\n",
    "but the FEM allows us to approximate the nodal coefficients of $u_h(x) = \\sum_{i} (\\mathbf{u})_i\\varphi_i(x)$\n",
    "as \n",
    "\n",
    "$$\n",
    "   \\mathbf{A}\\mathbf{u} = \\mathbf{f}\n",
    "$$\n",
    "\n",
    "so the inverse of this matrix $\\mathbf{A}$, should act on vectors in a similar way to the convolution\n",
    "integral above. We can see this by noting that the stiffness matrix \n",
    "\n",
    "$$\n",
    "    (\\mathbf{A})_{ij} = (\\mathbf{K}^{-1})_{ij}\n",
    "$$\n",
    "\n",
    "where $\\mathbf{K}$ is the Gram matrix of the Brownian bridge covariance function. This equivalence is\n",
    "checked below. Note that because of the degeneracy on the boundary where the solution is specified by\n",
    "the Dirichlet boundary condition we actually only check these matrices on the interior, which corresponds\n",
    "to the free boundary nodes.\n",
    "\n",
    "In the code below we show how this model can be solved using our FEM implementation"
   ]
  },
  {
   "cell_type": "code",
   "execution_count": 13,
   "metadata": {},
   "outputs": [],
   "source": [
    "def solve_poisson_problem(diffusion_coefficient: Callable,\n",
    "                          source: Callable) -> tf.Tensor:\n",
    "    \"\"\" Function to solve the Poisson problem. \n",
    "    \n",
    "    Args:\n",
    "        diffusion_coefficient: A callable giving the diffusion\n",
    "          coefficient of the PDE problem.\n",
    "        source: A callable giving the source term of the PDE\n",
    "          problem.\n",
    "    \n",
    "    Returns:\n",
    "        u: A float `Tensor` giving the solution of the poisson problem, will\n",
    "          will have shape `[:, mesh.n_nodes, 1]` with the first dimension\n",
    "          representing batches of the problem.\n",
    "    \"\"\"\n",
    "    A = AssembleStiffnessMatrix(\n",
    "        diffusion_coefficient = diffusion_coefficient,\n",
    "        reference_element=element)(mesh.get_tensor_repr())\n",
    "\n",
    "    b = AssembleLoadVector(\n",
    "        source=source,\n",
    "        reference_element=element)(mesh.get_tensor_repr())\n",
    "    \n",
    "    Aint = A[:, 1:-1, 1:-1]\n",
    "    bint = b[:, 1:-1]\n",
    "    \n",
    "    Aint = tf.linalg.LinearOperatorFullMatrix(Aint)\n",
    "    uint = Aint.solve(bint)\n",
    "\n",
    "    batch_size = tf.shape(uint)[0]\n",
    "    indices = tf.concat((tf.repeat(tf.range(batch_size), repeats=mesh.n_nodes-2)[..., tf.newaxis],\n",
    "                     tf.tile(tf.range(1, mesh.n_nodes-1), multiples=[batch_size, ])[..., tf.newaxis]), axis=-1)\n",
    "\n",
    "    return tf.scatter_nd(indices, \n",
    "                         tf.reshape(uint, [-1]),\n",
    "                         shape=[batch_size, mesh.n_nodes, ])[..., tf.newaxis]\n",
    "\n",
    "u = solve_poisson_problem(lambda x: tf.ones_like(x[..., 0]),\n",
    "                          lambda x: tf.ones_like(x[..., 0]))\n",
    "\n",
    "# assert(np.allclose(Aint, kinv[1:-1, 1:-1]))"
   ]
  },
  {
   "cell_type": "code",
   "execution_count": 14,
   "metadata": {},
   "outputs": [
    {
     "data": {
      "image/png": "[encoded data removed]",
      "text/plain": [
       "<Figure size 576x288 with 1 Axes>"
      ]
     },
     "metadata": {
      "needs_background": "light"
     },
     "output_type": "display_data"
    }
   ],
   "source": [
    "fig, ax = plt.subplots(figsize=(8, 4))\n",
    "\n",
    "ax.plot(xx, .5*xx*(1-xx), '-', label='Exact solution, $u(x) = x(1-x)/2$')\n",
    "ax.plot(mesh.nodes[:, 0], u[0, :, 0], 'X', \n",
    "        markeredgecolor='k',\n",
    "        markersize=10,\n",
    "        label='FEM Nodal Solution')\n",
    "\n",
    "ax.legend()\n",
    "ax.grid()\n",
    "plt.show()"
   ]
  },
  {
   "cell_type": "markdown",
   "metadata": {},
   "source": [
    "## GP sources\n",
    "\n",
    "The above demonstrates the solution of the FEM using the integral\n",
    "convolution, we are more interested though in the case where \n",
    "the source, $f(x)$, is a Gaussian process.\n",
    "\n",
    "Our simple `solve_poisson_problem` above requires that the source\n",
    "function be callable, it will be evaluated at the points\n",
    "`element.get_quadrature_nodes(mesh)`, so we need to create a GP\n",
    "object that is callable. The most natural way of doing this is\n",
    "through *Gaussian process inducing point* method"
   ]
  },
  {
   "cell_type": "code",
   "execution_count": 15,
   "metadata": {},
   "outputs": [],
   "source": [
    "class MaternFiveHalvesProvider(tf.keras.layers.Layer):\n",
    "    \"\"\" Layer which provides a MaternFiveHalves kernel. \"\"\"\n",
    "    @property\n",
    "    def kernel(self):\n",
    "        return tfp.math.psd_kernels.MaternFiveHalves(\n",
    "            length_scale=0.05*tf.ones([1], dtype=tf_dtype))"
   ]
  },
  {
   "cell_type": "code",
   "execution_count": 16,
   "metadata": {},
   "outputs": [],
   "source": [
    "num_inducing_points = 5\n",
    "\n",
    "z = np.linspace(0, 1, num_inducing_points)[:, None]\n",
    "\n",
    "# initialize q(u) at the prior\n",
    "kernel_provider = MaternFiveHalvesProvider()\n",
    "kzz = kernel_provider.kernel.matrix(z, z)\n",
    "scale = tf.linalg.cholesky(kzz).numpy()\n",
    "\n",
    "vgp_layer = tfp.layers.VariationalGaussianProcess(\n",
    "    num_inducing_points=num_inducing_points,\n",
    "    kernel_provider=kernel_provider,\n",
    "    event_shape=[1],\n",
    "    inducing_index_points_initializer=tf.constant_initializer(z),\n",
    "    variational_inducing_observations_scale_initializer=tf.constant_initializer(scale),\n",
    "    jitter=1e-4)"
   ]
  },
  {
   "cell_type": "code",
   "execution_count": 21,
   "metadata": {},
   "outputs": [
    {
     "data": {
      "image/png": "[encoded data removed]",
      "text/plain": [
       "<Figure size 432x288 with 1 Axes>"
      ]
     },
     "metadata": {
      "needs_background": "light"
     },
     "output_type": "display_data"
    }
   ],
   "source": [
    "fig, ax = plt.subplots(figsize=(6, 4))\n",
    "\n",
    "num_samples = 100\n",
    "u = solve_poisson_problem(lambda x: .1 * tf.ones_like(x[..., 0]),\n",
    "                          source = lambda x: vgp_layer(x).sample(num_samples))\n",
    "\n",
    "\n",
    "ax.plot(mesh.nodes[:, 0], u[..., 0].numpy().T, 'C3-', alpha=0.3)\n",
    "\n",
    "ax.set_title('Samples from GP-forced Poisson problem')\n",
    "ax.grid()\n",
    "plt.show()"
   ]
  },
  {
   "cell_type": "code",
   "execution_count": 9,
   "metadata": {},
   "outputs": [
    {
     "ename": "AssertionError",
     "evalue": "",
     "output_type": "error",
     "traceback": [
      "\u001b[0;31m---------------------------------------------------------------------------\u001b[0m",
      "\u001b[0;31mAssertionError\u001b[0m                            Traceback (most recent call last)",
      "\u001b[0;32m<ipython-input-9-8808c4021c9c>\u001b[0m in \u001b[0;36m<module>\u001b[0;34m\u001b[0m\n\u001b[0;32m----> 1\u001b[0;31m \u001b[0;32massert\u001b[0m\u001b[0;34m(\u001b[0m\u001b[0;32mFalse\u001b[0m\u001b[0;34m)\u001b[0m\u001b[0;34m\u001b[0m\u001b[0;34m\u001b[0m\u001b[0m\n\u001b[0m",
      "\u001b[0;31mAssertionError\u001b[0m: "
     ]
    }
   ],
   "source": [
    "assert(False)"
   ]
  },
  {
   "cell_type": "markdown",
   "metadata": {},
   "source": [
    "# Introduction\n",
    "\n",
    "In the [Notebook](hello_poisson.ipynb) we introduced the basic process of\n",
    "solving the Poisson problem with constant source. This seemed to work just fine,\n",
    "but giving the prior existence of FEM solving software packages why have we gone\n",
    "to all the additional work of implementing these methods inside of the Tensorflow\n",
    "ecosystem? In this notebook we being to make this abit clearer by considering a\n",
    "much more interesting class of models obtained by replacing the relatively\n",
    "boring source of the previous examples with the tensorflow implementation of the\n",
    "`GaussianProcess` class. That is we shall consider the solution of PDE systems of the\n",
    "form\n",
    "\n",
    "$$\n",
    "\\begin{align}\n",
    "    -\\nabla ( a(x) \\nabla u(x) ) &= f(x) \\qquad x \\in \\Omega \\\\\n",
    "    u(x) &= g(x) \\qquad x \\in \\partial\\Omega \\\\\n",
    "\\end{align}\n",
    "$$\n",
    "\n",
    "where the source term, $f(x)$, and the boundary condition $g(x)$, are both\n",
    "given independent Gaussian process priors.\n",
    "\n",
    "$$\n",
    "\\begin{align}\n",
    "    f(x) &\\sim \\mathcal{GP}(0, k_f), \\\\\n",
    "    g(x) &\\sim \\mathcal{GP}(0, k_g)\n",
    "\\end{align}\n",
    "$$\n",
    "\n",
    "where the source function is now a mean zero Gaussian process with kernel function $k$.\n",
    "We show that it is simple to put together this model, and for the cost of implementing\n",
    "the FEM solver we have gained access to the full set of statistical and machine learning\n",
    "models implemented in TensorFlow"
   ]
  },
  {
   "cell_type": "markdown",
   "metadata": {},
   "source": [
    "### Domain creation\n",
    "Before proceeding to define this part of the model, lets create our problem domain\n",
    "$\\Omega$, again we will use a simple example mesh which is the unit square\n",
    "$\\Omega = [0, 1] \\times [0, 1]$. We will also rescale this domain to give our \n",
    "GP variables some \"wiggle\" room."
   ]
  },
  {
   "cell_type": "code",
   "execution_count": null,
   "metadata": {},
   "outputs": [],
   "source": [
    "mesh = tenfem.mesh.examples.square(20, 20, dtype=tf_dtype)\n",
    "# rescale the mesh a bit\n",
    "mesh = tenfem.mesh.TriangleMesh(3 * mesh.nodes,\n",
    "                                mesh.elements,\n",
    "                                mesh.boundary_elements)\n",
    "mesh.add_matplotlib_tri()"
   ]
  },
  {
   "cell_type": "markdown",
   "metadata": {},
   "source": [
    "# Creating the GP model\n",
    "\n",
    "\n",
    "## The kernel function\n",
    "In this example we shall take the kernel function of our Gaussian process to be popular\n",
    "exponentiated quadratic, or radial basis function (RBF) kernel\n",
    "\n",
    "$$\n",
    "    k(x, x') = \\alpha^2 \\exp\\left(-\\frac{1}{2} \\sum_{d=1}^D (x_d - x'_d ) / \\ell_d^2 \\right)\n",
    "$$\n",
    "\n",
    "where $\\alpha$ is the *amplitude* parameter, and $\\ell$ is the *length-scale* parameter. \n",
    "\n",
    "We want to implement the GP model inside of the `tf.keras` functional API using the layers\n",
    "created by the `tensorflow_probability` team. To do so we are going to need a layer whose\n",
    "job is provide the kernel function to the Gaussian process. This layers job is to hold the\n",
    "model parameters, and simple layer class to do this job taken from \n",
    "the [tfp examples]() is given below"
   ]
  },
  {
   "cell_type": "code",
   "execution_count": null,
   "metadata": {},
   "outputs": [],
   "source": [
    "class RBFKernelFn(tf.keras.layers.Layer):\n",
    "    def __init__(self, **kwargs):\n",
    "        super(RBFKernelFn, self).__init__(**kwargs)\n",
    "        dtype = kwargs.get('dtype', None)\n",
    "\n",
    "        self._amplitude = self.add_weight(\n",
    "                initializer=tf.constant_initializer(0),\n",
    "                dtype=dtype,\n",
    "                name='amplitude')\n",
    "\n",
    "        self._length_scale = self.add_weight(\n",
    "                initializer=tf.constant_initializer(0.5),\n",
    "                dtype=dtype,\n",
    "                name='length_scale')\n",
    "\n",
    "    @property\n",
    "    def kernel(self):\n",
    "        return tfp.math.psd_kernels.ExponentiatedQuadratic(\n",
    "          amplitude=tf.nn.softplus(0.1 * self._amplitude),\n",
    "          length_scale=tf.nn.softplus(0.1 * self._length_scale))"
   ]
  },
  {
   "cell_type": "markdown",
   "metadata": {},
   "source": [
    "## `VariationalGaussianProcess`\n",
    "\n",
    "Read more about these process at ... first we are just going to define a function\n",
    "to build these layers, and then give a bit more of a recap of what is going on"
   ]
  },
  {
   "cell_type": "code",
   "execution_count": null,
   "metadata": {},
   "outputs": [],
   "source": [
    "def build_gp_layer(kernel_fn='RBF'):\n",
    "    \"\"\" Simple function to quickly build a SVGP layer. \"\"\"\n",
    "    if kernel_fn != 'RBF':\n",
    "        raise NotImplementError('Add more kernel functions!')\n",
    "\n",
    "    # select the initial inducing points uniformly from the mesh node\n",
    "    z_indices = np.random.choice(mesh.interior_node_indices.numpy(), \n",
    "                                 size=num_inducing_points, \n",
    "                                 replace=False)\n",
    "    z = mesh.nodes.numpy()[z_indices]\n",
    "\n",
    "    # initialize q(u) at the prior\n",
    "    kernel_provider = RBFKernelFn(dtype=tf.float64)\n",
    "    kzz = kernel_provider.kernel.matrix(z, z)\n",
    "    scale = tf.linalg.cholesky(kzz).numpy()\n",
    "\n",
    "    gp_layer = tfp.layers.VariationalGaussianProcess(\n",
    "        num_inducing_points=num_inducing_points,\n",
    "        kernel_provider=RBFKernelFn(),\n",
    "        event_shape=[1],\n",
    "        inducing_index_points_initializer=tf.constant_initializer(z),\n",
    "        variational_inducing_observations_scale_initializer=tf.constant_initializer(scale),\n",
    "        jitter=1e-4)\n",
    "    return gp_layer"
   ]
  },
  {
   "cell_type": "markdown",
   "metadata": {},
   "source": [
    "A Gaussian process determines the distribution of finite samples \n",
    "$\\mathbf{f} = (f(\\mathbf{x}_1), \\ldots, f(\\mathbf{x}_n) )$, a sparse\n",
    "variational Gaussian process introduces an additional set of \n",
    "*inducing variables* denoted by $\\mathbf{u}$ with distribution\n",
    "$q(\\mathbf{u})$ and then approximates the distribution over the\n",
    "complete set of $\\mathbb{f}$ by the factorised\n",
    "\n",
    "$$\n",
    "    p(\\mathbf{f}, \\mathbf{u}) = \n",
    "    p(\\mathbf{f} \\mid \\mathbf{u}) q(\\mathbf{u}).\n",
    "$$\n",
    "\n",
    "For Gaussian observations the parameters of $q(\\mathbf{u})$ can\n",
    "be determined analytically. For more complex models these are\n",
    "instead freely optimised, in which case we specify\n",
    "\n",
    "$$\n",
    "    q(\\mathbf{u}) = \\mathcal{N}(\\mathbf{u} \\mid \\mathbf{m}, \\mathbf{LL}^{\\top})\n",
    "$$\n",
    "\n",
    "where $\\mathbf{L}$ is a lower-triangular matrix. For\n",
    "`num_inducing_points = M` this is a total of \n",
    "$M + M(M+1)/2$ parameters.\n",
    "\n",
    "In the examples below we use the\n",
    "*inducing points variables* which are additional samples of the\n",
    "process $f(\\mathbf{x})$ drawn at locations \n",
    "$\\mathbf{Z} = \\{ \\mathbf{z}_m \\}_{m=1}^M$. This gives the\n",
    "following set of parameters\n",
    "\n",
    "* $\\mathbf{Z}$ -- the `inducing_point_locations`\n",
    "* $\\mathbf{m}$ -- the `variational_inducing_observations_loc`\n",
    "* $\\mathbf{L}$ -- the `variational_inducing_observations_scale`\n",
    "\n",
    "this variables can be accessed by passing a variable through the GP\n",
    "and querying the output. This is a bit sketchy, the name of the\n",
    "object returned by a GP layer is a mess of transposes and transformed\n",
    "distribution which is a little hard to parse, but if we print the\n",
    "variables we see they are what we would expect"
   ]
  },
  {
   "cell_type": "code",
   "execution_count": null,
   "metadata": {},
   "outputs": [],
   "source": [
    "inputs = tfkl.Input(2)\n",
    "gp_layer = build_gp_layer()\n",
    "f = gp_layer(inputs)\n",
    "for item in f.variables:\n",
    "    print(item.name)"
   ]
  },
  {
   "cell_type": "markdown",
   "metadata": {},
   "source": [
    "What we want is a `tfpl` layer which will return a\n",
    "`tfd.distributions.VariationalGaussianProcess` object.\n",
    "\n",
    "We are going to initialise the locations of the inducing points at the a \n",
    "selection of randomly sampled nodes on the mesh, and the distribution\n",
    "$q(\\mathbf{u})$ at the prior"
   ]
  },
  {
   "cell_type": "markdown",
   "metadata": {},
   "source": [
    "We are also going to add a further layer transforming our inputs to the parameters\n",
    "of the kernel function\n",
    "```\n",
    "    Input ---> Dense(2) ---> VariationalGaussianProcess\n",
    "```\n",
    "This layer does simple rescaling of the parameters, but obviously one is\n",
    "free to extend this idea adding more and more layers to warp the input space\n",
    "which will be points in $\\Omega$. Clearly this approach to model building can be\n",
    "easily adapted to join multiple spaces etc.\n",
    "\n",
    "We leave the exploration of the full possibilities for the reader and future notebooks\n",
    "and for now just implement the simple model shown above. We can put the source\n",
    "together as a full model and use the `.summary()` method to check everything is\n",
    "working as expected."
   ]
  },
  {
   "cell_type": "code",
   "execution_count": null,
   "metadata": {},
   "outputs": [],
   "source": [
    "inputs = tfkl.Input(2)\n",
    "# x = tfkl.Dense(2, use_bias=False)(inputs)  # scales inputs (like a length_scale)\n",
    "f = build_gp_layer('RBF')(inputs)\n",
    "source = tfk.Model(inputs=inputs, outputs=f, name='source')\n",
    "source.summary()"
   ]
  },
  {
   "cell_type": "markdown",
   "metadata": {},
   "source": [
    "# Implementing the FEM model\n",
    "\n",
    "We have the following steps\n",
    "1. Define the source model\n",
    "2. Define the Dirichlet boundary condition model\n",
    "3. Define the diffusion coefficient model\n",
    "4. Combine"
   ]
  },
  {
   "cell_type": "code",
   "execution_count": null,
   "metadata": {},
   "outputs": [],
   "source": [
    "element = tenfem.reference_elements.TriangleElement(degree=2, dtype=tf_dtype)\n",
    "quad_mesh = tenfem.mesh.triangle.convert_linear_to_quadratic(mesh)\n",
    "\n",
    "diffusion_coefficient = lambda x: tf.ones_like(x[..., 0])[..., tf.newaxis] # tfkl.Dense(1, activation='softplus')"
   ]
  },
  {
   "cell_type": "markdown",
   "metadata": {},
   "source": [
    "### The boundary condition $u_D$\n",
    "\n",
    "We are also going to assign a GP to the values of $u$ on the boundary, that\n",
    "is \n",
    "\n",
    "$$\n",
    "    u_{D}(x) \\sim GP(0, k_D(x, x'))\n",
    "$$\n",
    "\n",
    "and as with the source model we make this using the `VariationalGaussianProcessLayer`"
   ]
  },
  {
   "cell_type": "code",
   "execution_count": null,
   "metadata": {},
   "outputs": [],
   "source": [
    "# GP model to give the boundary values\n",
    "inputs = tfkl.Input(2)\n",
    "f = build_gp_layer('RBF')(inputs)\n",
    "ud = tfk.Model(inputs=inputs, outputs=f, name='boundary')\n",
    "ud.summary()"
   ]
  },
  {
   "cell_type": "markdown",
   "metadata": {},
   "source": [
    "### The full latent GP PDE"
   ]
  },
  {
   "cell_type": "code",
   "execution_count": null,
   "metadata": {},
   "outputs": [],
   "source": [
    "mesh_provider = tenfem.layers.MeshProvider(quad_mesh, element)\n",
    "\n",
    "ud = lambda x: tf.zeros_like(x[..., 0])[..., tf.newaxis]\n",
    "\n",
    "gp_pde = tenfem.layers.LinearEllipticOperator(\n",
    "    diffusion_coefficient=diffusion_coefficient,\n",
    "    source=source,\n",
    "    boundary_values=ud,\n",
    "    reference_element=element)\n",
    "\n",
    "interp = tenfem.layers.TriangleMeshInterpolator(\n",
    "    tri_finder = mesh._triang.get_trifinder(),\n",
    "    reference_element=element)\n",
    "\n",
    "# create the model using the tf.keras functional API\n",
    "inputs = tfkl.Input(shape=(2, ))\n",
    "mesh_tensor_repr = mesh_provider(inputs)\n",
    "\n",
    "u = gp_pde(mesh_tensor_repr)  # solution of the model at the tensor nodes\n",
    "outputs = interp([inputs, u, mesh_tensor_repr])\n",
    "\n",
    "gp_pde_model = tfk.Model(inputs=inputs, outputs=outputs)\n",
    "gp_pde_model.summary()"
   ]
  },
  {
   "cell_type": "markdown",
   "metadata": {},
   "source": [
    "lets sample some realisations of this model to see what sort of patterns we can realise"
   ]
  },
  {
   "cell_type": "code",
   "execution_count": null,
   "metadata": {},
   "outputs": [],
   "source": [
    "xx = np.linspace(0., np.max(mesh.nodes[:, 0]))\n",
    "yy = np.linspace(0., np.max(mesh.nodes[:, 1]))\n",
    "xx, yy = np.meshgrid(xx, yy)\n",
    "points = np.column_stack((xx.ravel(), yy.ravel()))\n",
    "\n",
    "fig, axes = plt.subplots(ncols=3, figsize=(10, 5))\n",
    "\n",
    "for i in range(3):\n",
    "    #u = interp([points, source(quad_mesh.get_tensor_repr()), quad_mesh.get_tensor_repr()])\n",
    "    #u = u.numpy().reshape(xx.shape)\n",
    "    u = gp_pde_model(points).numpy().reshape(xx.shape)\n",
    "    axes[i].contourf(xx, yy, u, levels=20)\n",
    "for ax in axes.flatten():\n",
    "    ax.set_aspect('equal')"
   ]
  },
  {
   "cell_type": "code",
   "execution_count": null,
   "metadata": {},
   "outputs": [],
   "source": [
    "assert(False)"
   ]
  },
  {
   "cell_type": "code",
   "execution_count": null,
   "metadata": {},
   "outputs": [],
   "source": [
    "# GP model to give the boundary values\n",
    "inputs = tfkl.Input(2)\n",
    "f = build_gp_layer('RBF')(inputs)\n",
    "ud = tfk.Model(inputs=inputs, outputs=f, name='boundary')\n",
    "# ud.summary()"
   ]
  },
  {
   "cell_type": "code",
   "execution_count": null,
   "metadata": {},
   "outputs": [],
   "source": [
    "element = tenfem.reference_elements.TriangleElement(degree=2, dtype=tf_dtype)\n",
    "quad_mesh = tenfem.mesh.triangle.convert_linear_to_quadratic(mesh)\n",
    "\n",
    "diffusion_coefficient = tfkl.Dense(1, activation='softplus')\n",
    "\n",
    "def sample_source(x, seed=123):\n",
    "    tf.random.set_seed(seed)\n",
    "    return np.squeeze(source(x).sample(1))\n",
    "\n",
    "def solve(mesh, element, seed=123):\n",
    "    \"\"\" Simple function so solve the PDE\"\"\"\n",
    "    tf.random.set_seed(seed)\n",
    "    pde = tenfem.layers.LinearEllipticOperator(\n",
    "        diffusion_coefficient=diffusion_coefficient,\n",
    "        source = source,\n",
    "        boundary_values=ud,\n",
    "        reference_element=element)\n",
    "    u = pde(mesh.get_tensor_repr())\n",
    "    return u"
   ]
  },
  {
   "cell_type": "code",
   "execution_count": null,
   "metadata": {},
   "outputs": [],
   "source": [
    "f = sample_source(quad_mesh.nodes, seed=8124)\n",
    "u = solve(quad_mesh, element, seed=8124)"
   ]
  },
  {
   "cell_type": "code",
   "execution_count": null,
   "metadata": {},
   "outputs": [],
   "source": [
    "interp = tenfem.layers.TriangleMeshInterpolator(\n",
    "    tri_finder = mesh._triang.get_trifinder(),\n",
    "    reference_element=element)"
   ]
  },
  {
   "cell_type": "code",
   "execution_count": null,
   "metadata": {},
   "outputs": [],
   "source": [
    "xx = np.linspace(0., 3.)\n",
    "yy = np.linspace(0., 3.)\n",
    "xx, yy = np.meshgrid(xx, yy)\n",
    "points = np.column_stack((xx.ravel(), yy.ravel()))\n",
    "uinterp = interp([points, u, quad_mesh.get_tensor_repr()]).numpy()"
   ]
  },
  {
   "cell_type": "code",
   "execution_count": null,
   "metadata": {},
   "outputs": [],
   "source": [
    "fig, ax = plt.subplots()\n",
    "ax.contourf(xx, yy, uinterp.reshape(xx.shape), levels=20)#, cmap='Spectral')\n",
    "ax.set_aspect('equal')"
   ]
  },
  {
   "cell_type": "code",
   "execution_count": null,
   "metadata": {},
   "outputs": [],
   "source": [
    "fig, axes = plt.subplots(ncols=2, figsize=(9, 4))\n",
    "\n",
    "mtri = Triangulation(*quad_mesh.nodes.numpy().T)\n",
    "\n",
    "vals = [f, u[:, 0]]\n",
    "cm = ['plasma', 'Spectral']\n",
    "\n",
    "for i, ax in enumerate(axes):\n",
    "    cs = ax.tricontourf(mtri, vals[i], cmap=cm[i], levels=15)\n",
    "    ax.set_aspect('equal')\n",
    "\n",
    "plt.show()"
   ]
  },
  {
   "cell_type": "code",
   "execution_count": null,
   "metadata": {},
   "outputs": [],
   "source": [
    "from sklearn.datasets import fetch_species_distributions\n"
   ]
  },
  {
   "cell_type": "code",
   "execution_count": null,
   "metadata": {},
   "outputs": [],
   "source": [
    "def construct_grids(batch):\n",
    "    \"\"\"Construct the map grid from the batch object\n",
    "\n",
    "    Parameters\n",
    "    ----------\n",
    "    batch : Batch object\n",
    "        The object returned by :func:`fetch_species_distributions`\n",
    "\n",
    "    Returns\n",
    "    -------\n",
    "    (xgrid, ygrid) : 1-D arrays\n",
    "        The grid corresponding to the values in batch.coverages\n",
    "    \"\"\"\n",
    "    # x,y coordinates for corner cells\n",
    "    xmin = batch.x_left_lower_corner + batch.grid_size\n",
    "    xmax = xmin + (batch.Nx * batch.grid_size)\n",
    "    ymin = batch.y_left_lower_corner + batch.grid_size\n",
    "    ymax = ymin + (batch.Ny * batch.grid_size)\n",
    "\n",
    "    # x coordinates of the grid cells\n",
    "    xgrid = np.arange(xmin, xmax, batch.grid_size)\n",
    "    # y coordinates of the grid cells\n",
    "    ygrid = np.arange(ymin, ymax, batch.grid_size)\n",
    "\n",
    "    return (xgrid, ygrid)\n",
    "\n",
    "# Get matrices/arrays of species IDs and locations\n",
    "data = fetch_species_distributions()\n",
    "species_names = ['Bradypus Variegatus', 'Microryzomys Minutus']\n",
    "\n",
    "Xtrain = np.vstack([data['train']['dd lat'],\n",
    "                    data['train']['dd long']]).T\n",
    "ytrain = np.array([d.decode('ascii').startswith('micro')\n",
    "                  for d in data['train']['species']], dtype='int')\n",
    "#Xtrain *= np.pi / 180.  # Convert lat/long to radians\n",
    "\n",
    "# Set up the data grid for the contour plot\n",
    "xgrid, ygrid = construct_grids(data)"
   ]
  },
  {
   "cell_type": "code",
   "execution_count": null,
   "metadata": {},
   "outputs": [],
   "source": [
    "from scipy.spatial import Delaunay\n",
    "from sklearn.datasets import make_moons\n",
    "\n",
    "data = make_moons(noise=0.3, random_state=0)\n",
    "\n",
    "X, y = data\n",
    "\n",
    "bbox = (np.min(X[:, 0]) - 0.1, \n",
    "        np.max(X[:, 0]) + 0.1, \n",
    "        np.min(X[:, 1]) - 0.1, \n",
    "        np.max(X[:, 1]) + 0.1)\n",
    "\n",
    "xx = np.linspace(bbox[0], bbox[1], 16)\n",
    "yy = np.linspace(bbox[2], bbox[3], 16)\n",
    "\n",
    "xx, yy = np.meshgrid(xx, yy)\n",
    "\n",
    "nodes = np.column_stack((xx.ravel(), yy.ravel()))\n",
    "tri = Delaunay(nodes)\n",
    "\n",
    "tri_mesh = tenfem.mesh.TriangleMesh(tri.points, tri.simplices, tri.convex_hull, dtype=tf_dtype)\n",
    "tri_mesh.add_matplotlib_tri()\n",
    "\n",
    "fig, ax = plt.subplots()\n",
    "ax.triplot(tri_mesh._triang, alpha=0.4)\n",
    "ax.set_aspect('equal')\n",
    "ax.plot(*X[y == 0].T, 'C0o', markeredgecolor='k')\n",
    "ax.plot(*X[y == 1].T, 'C1o', markeredgecolor='k')\n",
    "plt.show()"
   ]
  },
  {
   "cell_type": "code",
   "execution_count": null,
   "metadata": {},
   "outputs": [],
   "source": [
    "tfd = tfp.distributions\n",
    "\n",
    "inputs = tfkl.Input(2)\n",
    "x = tfkl.Dense(2)(inputs)  # scales inputs (like a length_scale)\n",
    "f = tfkl.Dense(16, activation='relu')(x)\n",
    "f = tfkl.Dense(16, activation='relu')(f)\n",
    "pred = tfkl.Dense(2)(f)\n",
    "\n",
    "model = tfk.Model(inputs=inputs, outputs=pred)\n",
    "model.compile(optimizer=tf.optimizers.Adam(learning_rate=1e-3),\n",
    "              loss=tf.keras.losses.SparseCategoricalCrossentropy(from_logits=True),\n",
    "              metrics='accuracy')"
   ]
  },
  {
   "cell_type": "code",
   "execution_count": null,
   "metadata": {},
   "outputs": [],
   "source": [
    "model.fit(X, y[:, None], batch_size=128, epochs=1000)"
   ]
  },
  {
   "cell_type": "code",
   "execution_count": null,
   "metadata": {},
   "outputs": [],
   "source": [
    "pred = model.predict(tri_mesh.nodes)"
   ]
  },
  {
   "cell_type": "code",
   "execution_count": null,
   "metadata": {},
   "outputs": [],
   "source": [
    "fig, ax = plt.subplots()\n",
    "ax.contourf(xx, yy, pred[:, 0].reshape(xx.shape), cmap='Spectral')\n",
    "ax.plot(*X[y == 0].T, 'C0o', markeredgecolor='k')\n",
    "ax.plot(*X[y == 1].T, 'C1o', markeredgecolor='k')\n",
    "ax.set_aspect('equal')\n",
    "plt.show()"
   ]
  },
  {
   "cell_type": "code",
   "execution_count": null,
   "metadata": {},
   "outputs": [],
   "source": [
    "y.shape[1:]"
   ]
  },
  {
   "cell_type": "code",
   "execution_count": null,
   "metadata": {},
   "outputs": [],
   "source": [
    "fig, ax = plt.subplots()\n",
    "ax.plot(*Xtrain.T, 'o', markeredgecolor='k')"
   ]
  },
  {
   "cell_type": "code",
   "execution_count": null,
   "metadata": {},
   "outputs": [],
   "source": [
    "# Get matrices/arrays of species IDs and locations\n",
    "data = fetch_species_distributions()\n",
    "species_names = ['Bradypus Variegatus', 'Microryzomys Minutus']\n",
    "\n",
    "Xtrain = np.vstack([data['train']['dd lat'],\n",
    "                    data['train']['dd long']]).T\n",
    "ytrain = np.array([d.decode('ascii').startswith('micro')\n",
    "                  for d in data['train']['species']], dtype='int')\n",
    "#Xtrain *= np.pi / 180.  # Convert lat/long to radians\n",
    "\n",
    "# Set up the data grid for the contour plot\n",
    "xgrid, ygrid = construct_grids(data)"
   ]
  },
  {
   "cell_type": "code",
   "execution_count": null,
   "metadata": {},
   "outputs": [],
   "source": [
    "X, Y = np.meshgrid(xgrid[::5], ygrid[::5][::-1])\n",
    "land_reference = data.coverages[6][::5, ::5]\n",
    "land_mask = (land_reference > 100).ravel()\n",
    "\n",
    "fig, ax = plt.subplots(figsize=(6, 10))\n",
    "cs = ax.contourf(X, Y, land_reference,\n",
    "                 levels=[0, 10, 100], colors=\"k\",\n",
    "                 linestyles=\"solid\")\n",
    "\n",
    "ax.plot(Xtrain[:, 1], Xtrain[:, 0], 'o', markeredgecolor='k')\n",
    "\n",
    "ax.set_aspect('equal')"
   ]
  },
  {
   "cell_type": "code",
   "execution_count": null,
   "metadata": {},
   "outputs": [],
   "source": [
    "p = cs.collections[0].get_paths()[0]\n",
    "v = p.vertices"
   ]
  },
  {
   "cell_type": "code",
   "execution_count": null,
   "metadata": {},
   "outputs": [],
   "source": [
    "fig, ax = plt.subplots()\n",
    "ax.plot(v[:, 0], v[:, 1], '-')\n",
    "plt.show()\n"
   ]
  },
  {
   "cell_type": "code",
   "execution_count": null,
   "metadata": {},
   "outputs": [],
   "source": [
    "land_reference[land_reference > 100].shape"
   ]
  },
  {
   "cell_type": "code",
   "execution_count": null,
   "metadata": {},
   "outputs": [],
   "source": [
    "!pip install geopandas"
   ]
  },
  {
   "cell_type": "code",
   "execution_count": null,
   "metadata": {},
   "outputs": [],
   "source": [
    "# Import necessary modules\n",
    "import geopandas as gpd\n",
    "\n",
    "# Set filepath\n",
    "fp = \"SouthAmerica.shp\"\n",
    "\n",
    "# Read file using gpd.read_file()\n",
    "data = gpd.read_file(fp)"
   ]
  },
  {
   "cell_type": "code",
   "execution_count": null,
   "metadata": {},
   "outputs": [],
   "source": [
    "data"
   ]
  },
  {
   "cell_type": "code",
   "execution_count": null,
   "metadata": {},
   "outputs": [],
   "source": [
    "import geopandas"
   ]
  },
  {
   "cell_type": "code",
   "execution_count": null,
   "metadata": {},
   "outputs": [],
   "source": [
    "capitals = geopandas.read_file(geopandas.datasets.get_path(\"naturalearth_cities\"))\n",
    "world = geopandas.read_file(geopandas.datasets.get_path(\"naturalearth_lowres\"))\n",
    "\n",
    "# Create a subset of the world data that is just the South American continent\n",
    "south_america = world[world[\"continent\"] == \"South America\"]"
   ]
  },
  {
   "cell_type": "code",
   "execution_count": null,
   "metadata": {},
   "outputs": [],
   "source": [
    "fig, ax = plt.subplots()\n",
    "south_america.boundary.plot(ax=ax, color=\"green\")\n",
    "ax.set_aspect('equal')\n",
    "plt.show()"
   ]
  },
  {
   "cell_type": "code",
   "execution_count": null,
   "metadata": {},
   "outputs": [],
   "source": [
    "south_america"
   ]
  },
  {
   "cell_type": "code",
   "execution_count": null,
   "metadata": {},
   "outputs": [],
   "source": [
    "colombia = world[world.name == 'Colombia']\n",
    "panama = world[world.name == 'Panama']\n",
    "costa_rica = world[world.name == 'Costa Rica']\n",
    "brazil = world[world.name == 'Brazil']\n",
    "venezuela = world[world.name == 'Venezuela']\n",
    "\n",
    "country_names = ['Colombia', 'Venezuela', 'Ecuador', 'Peru', 'Bolivia', 'Chile', 'Brazil',\n",
    "                 'Guyana', 'Paraguay', 'Argentina']\n",
    "                 #'Suriname', 'French Guiana', 'Paraguay', ]\n",
    "\n",
    "countries = [world[world.name == name] for name in country_names]"
   ]
  },
  {
   "cell_type": "code",
   "execution_count": null,
   "metadata": {},
   "outputs": [],
   "source": [
    "polygons = list(map(lambda x: x.geometry.iloc[0], countries))"
   ]
  },
  {
   "cell_type": "code",
   "execution_count": null,
   "metadata": {},
   "outputs": [],
   "source": [
    "import shapely\n",
    "shapely.ops.unary_union(polygons)"
   ]
  },
  {
   "cell_type": "code",
   "execution_count": null,
   "metadata": {},
   "outputs": [],
   "source": []
  }
 ],
 "metadata": {
  "kernelspec": {
   "display_name": "Python (tenfem)",
   "language": "python",
   "name": "tenfem"
  },
  "language_info": {
   "codemirror_mode": {
    "name": "ipython",
    "version": 3
   },
   "file_extension": ".py",
   "mimetype": "text/x-python",
   "name": "python",
   "nbconvert_exporter": "python",
   "pygments_lexer": "ipython3",
   "version": "3.7.6"
  }
 },
 "nbformat": 4,
 "nbformat_minor": 4
}
