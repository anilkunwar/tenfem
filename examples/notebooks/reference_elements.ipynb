{
 "cells": [
  {
   "cell_type": "code",
   "execution_count": 1,
   "metadata": {},
   "outputs": [],
   "source": [
    "import numpy as np\n",
    "import matplotlib.pyplot as plt\n",
    "import tensorflow as tf\n",
    "import tenfem\n",
    "from scipy.integrate import quad"
   ]
  },
  {
   "cell_type": "code",
   "execution_count": 2,
   "metadata": {},
   "outputs": [],
   "source": [
    "tri_mesh = tenfem.mesh.examples.square(2, 2)\n",
    "tri_element = tenfem.reference_elements.TriangleElement(degree=1)\n",
    "# tri_element.get_quadrature_nodes(tri_mesh)"
   ]
  },
  {
   "cell_type": "code",
   "execution_count": 3,
   "metadata": {},
   "outputs": [],
   "source": [
    "n_nodes = 5\n",
    "a, b = 0., 2.\n",
    "nodes = np.linspace(a, b, n_nodes)[:, np.newaxis]\n",
    "elements = np.column_stack((np.arange(0, n_nodes-1), np.arange(1, n_nodes)))\n",
    "boundary_elements = [[0, ], [n_nodes-1, ]]\n",
    "\n",
    "mesh = tenfem.mesh.IntervalMesh(nodes, elements, boundary_elements)"
   ]
  },
  {
   "cell_type": "markdown",
   "metadata": {},
   "source": [
    "# Some words of caution\n",
    "\n",
    "We have taken our reference element to be $[0, 1]$ to easily define the shape functions,\n",
    "but the Gauss quadrature nodes are on the interval therefore over each element\n",
    "we must adjust be the scaling factor \n",
    "\n",
    "$$\n",
    "\\frac{(b_i - a_i)}{2}\n",
    "$$\n",
    "\n",
    "this is automatically taken care of in the `quadrature` method."
   ]
  },
  {
   "cell_type": "code",
   "execution_count": 4,
   "metadata": {},
   "outputs": [],
   "source": [
    "#ref_element = tenfem.reference_elements.IntervalElement(# .get_quadrature_nodes(mesh)\n",
    "ref_element = tenfem.reference_elements.IntervalElement(degree=1, dtype=tf.float64)\n",
    "quad_nodes, quad_weights = ref_element.get_quadrature_nodes_and_weights()"
   ]
  },
  {
   "cell_type": "code",
   "execution_count": 5,
   "metadata": {},
   "outputs": [
    {
     "name": "stdout",
     "output_type": "stream",
     "text": [
      "2.0\n",
      "tf.Tensor(2.0, shape=(), dtype=float64)\n",
      "tf.Tensor(2.0, shape=(), dtype=float64)\n"
     ]
    }
   ],
   "source": [
    "def f(x):\n",
    "    return x[..., 0]\n",
    "\n",
    "def quadrature(self, f, mesh):\n",
    "    \"\"\" Perform quadrature of a function over the mesh. \n",
    "    \n",
    "    Args:\n",
    "        f: A scalar callable, when evaluated at a mesh node of shape \n",
    "          `[..., spatial_dim]` it should return a `Tensor` of shape\n",
    "          `[..., ]` with the same `dtype` as `mesh.\n",
    "    \n",
    "    Returns\n",
    "        integral: A quadrature approximation to the integral of\n",
    "          f over the mesh.\n",
    "    \"\"\"\n",
    "    mesh_quad_nodes, quad_weights = self.get_mesh_quadrature_nodes(mesh)\n",
    "\n",
    "    f_at_nodes = f(mesh_quad_nodes)\n",
    "    volumes = self.get_element_volumes(mesh)\n",
    "    return 0.5 * tf.reduce_sum(f_at_nodes \n",
    "                               * quad_weights\n",
    "                               * volumes[..., tf.newaxis], axis=[-1, -2])\n",
    "    \n",
    "\n",
    "I, err = quad(lambda x: x, a, b)\n",
    "print(I)\n",
    "print(quadrature(ref_element, f, mesh))\n",
    "print(ref_element.quadrature(f, mesh))"
   ]
  },
  {
   "cell_type": "code",
   "execution_count": 6,
   "metadata": {},
   "outputs": [],
   "source": [
    "rr = np.linspace(0., 1., 4)"
   ]
  },
  {
   "cell_type": "code",
   "execution_count": 7,
   "metadata": {},
   "outputs": [
    {
     "data": {
      "image/png": "[encoded data removed]",
      "text/plain": [
       "<Figure size 432x288 with 1 Axes>"
      ]
     },
     "metadata": {
      "needs_background": "light"
     },
     "output_type": "display_data"
    }
   ],
   "source": [
    "xx = np.linspace(0., 1.)\n",
    "s, ds = ref_element.shape_function(xx)\n",
    "\n",
    "fig, ax = plt.subplots()\n",
    "ax.plot(xx, s[..., 0], label='$S_1$')\n",
    "ax.plot(xx, s[..., 1], label='$S_2$')\n",
    "ax.legend()\n",
    "plt.show()"
   ]
  },
  {
   "cell_type": "code",
   "execution_count": 8,
   "metadata": {},
   "outputs": [],
   "source": [
    "def foo():\n",
    "    wts, quad_nodes = element.get_quadrature_nodes_and_weights()\n",
    "    _, pf_shape_fn_grad, jac_det = element.isomap(element_nodes, quad_nodes)\n",
    "    pass"
   ]
  },
  {
   "cell_type": "code",
   "execution_count": 9,
   "metadata": {},
   "outputs": [],
   "source": [
    "self = ref_element\n",
    "\n",
    "r, w = self.get_quadrature_nodes_and_weights()\n",
    "\n",
    "shape_fn_vals, shape_fn_grad = self.shape_function(r)\n",
    "\n"
   ]
  },
  {
   "cell_type": "markdown",
   "metadata": {},
   "source": [
    "`shape_fn_grad` is a tensor of shape `[1, n, element_dim]`, in the case of linear elements it is\n",
    "we have\n",
    "\n",
    "```\n",
    "shape_fn_grad[0, :, 0] = -tf.ones(n)\n",
    "shape_fn_grad[0, :, 1] = tf.ones(n)\n",
    "```"
   ]
  },
  {
   "cell_type": "code",
   "execution_count": 10,
   "metadata": {},
   "outputs": [
    {
     "data": {
      "text/plain": [
       "TensorShape([1, 4, 2, 2])"
      ]
     },
     "execution_count": 10,
     "metadata": {},
     "output_type": "execute_result"
    }
   ],
   "source": [
    "element_nodes = tf.gather(mesh.nodes, mesh.elements)\n",
    "\n",
    "wts, quad_nodes = ref_element.get_quadrature_nodes_and_weights()\n",
    "\n",
    "_, pf_shape_fn_grad, jac_det = ref_element.isomap(element_nodes, quad_nodes)\n",
    "\n",
    "wxarea = jac_det * wts / 2\n",
    "\n",
    "pf_shape_fn_grad.shape"
   ]
  },
  {
   "cell_type": "code",
   "execution_count": 22,
   "metadata": {},
   "outputs": [
    {
     "name": "stdout",
     "output_type": "stream",
     "text": [
      "[2. 2. 2. 2.]\n",
      "tf.Tensor(\n",
      "[[[ 2. -2.]\n",
      "  [-2.  2.]]\n",
      "\n",
      " [[ 2. -2.]\n",
      "  [-2.  2.]]\n",
      "\n",
      " [[ 2. -2.]\n",
      "  [-2.  2.]]\n",
      "\n",
      " [[ 2. -2.]\n",
      "  [-2.  2.]]], shape=(4, 2, 2), dtype=float64)\n",
      "tf.Tensor(\n",
      "[[ 2. -2.  0.  0.  0.]\n",
      " [-2.  4. -2.  0.  0.]\n",
      " [ 0. -2.  4. -2.  0.]\n",
      " [ 0.  0. -2.  4. -2.]\n",
      " [ 0.  0.  0. -2.  2.]], shape=(5, 5), dtype=float64)\n"
     ]
    }
   ],
   "source": [
    "diff_coeff = tf.ones([mesh.n_elements, 2], dtype=ref_element.dtype)\n",
    "\n",
    "local_stiffness_mat = tenfem.fem.assemble_local_stiffness_matrix(diff_coeff, mesh, ref_element)\n",
    "global_stiffness_mat = tenfem.fem.scatter_matrix_to_global(\n",
    "    local_stiffness_mat[tf.newaxis, ...],\n",
    "    mesh.elements[None, ...],\n",
    "    mesh.n_nodes)\n",
    "\n",
    "h = np.diff(mesh.nodes[:, 0])\n",
    "print(1/ h)\n",
    "\n",
    "print(local_stiffness_mat)\n",
    "print(global_stiffness_mat[0])"
   ]
  },
  {
   "cell_type": "code",
   "execution_count": 26,
   "metadata": {},
   "outputs": [
    {
     "data": {
      "text/plain": [
       "array([[ 1., -1.,  0.,  0.,  0.],\n",
       "       [-1.,  1., -1.,  0.,  0.],\n",
       "       [ 0., -1.,  1., -1.,  0.],\n",
       "       [ 0.,  0., -1.,  1., -1.],\n",
       "       [ 0.,  0.,  0., -1.,  1.]])"
      ]
     },
     "execution_count": 26,
     "metadata": {},
     "output_type": "execute_result"
    }
   ],
   "source": [
    "np.eye(5) - np.eye(5, k=-1) - np.eye(5, k=1)"
   ]
  },
  {
   "cell_type": "code",
   "execution_count": 12,
   "metadata": {},
   "outputs": [
    {
     "data": {
      "image/png": "[encoded data removed]",
      "text/plain": [
       "<Figure size 432x288 with 1 Axes>"
      ]
     },
     "metadata": {
      "needs_background": "light"
     },
     "output_type": "display_data"
    }
   ],
   "source": [
    "s1 = lambda r: (1-3*r + 2*r**2)\n",
    "s2 = lambda r: 4*(r-r**2)\n",
    "s3 = lambda r: -r + 2*r**2\n",
    "\n",
    "rr = np.linspace(0., 1.)\n",
    "\n",
    "fig, ax = plt.subplots()\n",
    "ax.plot(rr, s1(rr))\n",
    "ax.plot(rr, s2(rr))\n",
    "ax.plot(rr, s3(rr))\n",
    "plt.show()"
   ]
  },
  {
   "cell_type": "code",
   "execution_count": null,
   "metadata": {},
   "outputs": [],
   "source": []
  }
 ],
 "metadata": {
  "kernelspec": {
   "display_name": "Python (tenfem)",
   "language": "python",
   "name": "tenfem"
  },
  "language_info": {
   "codemirror_mode": {
    "name": "ipython",
    "version": 3
   },
   "file_extension": ".py",
   "mimetype": "text/x-python",
   "name": "python",
   "nbconvert_exporter": "python",
   "pygments_lexer": "ipython3",
   "version": "3.7.6"
  }
 },
 "nbformat": 4,
 "nbformat_minor": 4
}
