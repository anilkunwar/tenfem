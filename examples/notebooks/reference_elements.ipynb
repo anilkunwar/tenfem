{
 "cells": [
  {
   "cell_type": "code",
   "execution_count": 1,
   "metadata": {},
   "outputs": [],
   "source": [
    "import numpy as np\n",
    "import matplotlib.pyplot as plt\n",
    "import tensorflow as tf\n",
    "import tenfem"
   ]
  },
  {
   "cell_type": "code",
   "execution_count": 2,
   "metadata": {},
   "outputs": [],
   "source": [
    "def p1_shape_fn(r):\n",
    "    \"\"\"\n",
    "    \n",
    "    Returns:\n",
    "        shape_fn_vals: A `Tensor` of shape `[..., n, 2]\n",
    "        shape_fn_grads: A `Tensor` of shape `[2, ..., n, 2]`\n",
    "    \"\"\"\n",
    "    shape_fn_vals = tf.concat((1 - r[..., tf.newaxis], r[..., tf.newaxis]), axis=-1)\n",
    "    shape_fn_grads = tf.concat((-tf.ones_like(r)[..., tf.newaxis], \n",
    "                                 tf.ones_like(r)[..., tf.newaxis]), axis=-1)[tf.newaxis, ...]\n",
    "\n",
    "    return shape_fn_vals, shape_fn_grads"
   ]
  },
  {
   "cell_type": "code",
   "execution_count": 3,
   "metadata": {},
   "outputs": [],
   "source": [
    "def gauss_quad_nodes_and_weights(order: int, dtype=tf.DType = tf.float32):\n",
    "    \"\"\" The nodes and weights for Gaussian quadrature on a triangle element.\n",
    "\n",
    "    Args:\n",
    "        order: Python integer, the number of quadrature nodes.\n",
    "        dtype: A `tf.DType` object giving the data-type of the quadrature nodes\n",
    "          and weights.\n",
    "\n",
    "    Returns:\n",
    "        weights: A float `Tensor` like giving the weights of the\n",
    "          gaussian quadrature rule of `order`, with data-type equal\n",
    "          to `dtype`.\n",
    "        nodes: A float `Tensor` giving the nodes of the Gaussian\n",
    "          quadrature rule of shape [len(weights), 2], with data-type\n",
    "          equal to `dtype`.\n",
    "\n",
    "    Raises:\n",
    "        NotImplementedError: If order is not in [1, 2, 3].\n",
    "    \"\"\"\n",
    "    if order == 1:\n",
    "        weights = tf.constant([1], dtype=dtype)\n",
    "        nodes = tf.constant([[0.5],], dtype=dtype)\n",
    "    elif order == 2:\n",
    "        weights = tf.constant([1., 1.], dtype=dtype)\n",
    "        nodes = tf.constant([[0.21132486540518708,] \n",
    "                             [0.7886751345948129,]], dtype=dtype)\n",
    "    elif order == 3:\n",
    "        weights = tf.constant([5./9, 8./9. 5./9], dtype=dtype)\n",
    "        nodes = tf.constant([[0.1127016653792583, ]\n",
    "                             [0.5, ],\n",
    "                             [0.8872983346207417, ]], dtype=dtype)\n",
    "    else:\n",
    "        raise NotImplementedError('Order {} not currently implemented.'.format(order))\n",
    "\n",
    "\n",
    "gauss_quad_nodes = {\n",
    "    1: [0.5 ],\n",
    "    2: [0.21132486540518708, 0.7886751345948129],\n",
    "    3: [0.1127016653792583, 0.5, 0.8872983346207417],\n",
    "}"
   ]
  },
  {
   "cell_type": "code",
   "execution_count": 5,
   "metadata": {},
   "outputs": [],
   "source": [
    "rr = np.linspace(0., 1., 4)"
   ]
  },
  {
   "cell_type": "code",
   "execution_count": 6,
   "metadata": {},
   "outputs": [
    {
     "data": {
      "image/png": "[encoded data removed]",
      "text/plain": [
       "<Figure size 432x288 with 1 Axes>"
      ]
     },
     "metadata": {
      "needs_background": "light"
     },
     "output_type": "display_data"
    }
   ],
   "source": [
    "xx = np.linspace(0., 1.)\n",
    "s, ds = p1_shape_fn(xx)\n",
    "\n",
    "fig, ax = plt.subplots()\n",
    "ax.plot(xx, s[..., 0], label='$S_1$')\n",
    "ax.plot(xx, s[..., 1], label='$S_2$')\n",
    "ax.legend()\n",
    "plt.show()"
   ]
  },
  {
   "cell_type": "code",
   "execution_count": 7,
   "metadata": {},
   "outputs": [],
   "source": [
    "n_nodes = 5\n",
    "nodes = np.linspace(-1.3, 0.5, n_nodes)[:, np.newaxis]\n",
    "elements = np.column_stack((np.arange(0, 4), np.arange(1, 5)))\n",
    "boundary_elements = [[0, ], [4, ]]\n",
    "\n",
    "mesh = tenfem.mesh.IntervalMesh(nodes, elements, boundary_elements)"
   ]
  },
  {
   "cell_type": "code",
   "execution_count": null,
   "metadata": {},
   "outputs": [],
   "source": [
    "IntervalElement = tenfem.reference_elements.IntervalElement\n",
    "\n",
    "element = IntervalElement()"
   ]
  },
  {
   "cell_type": "code",
   "execution_count": 9,
   "metadata": {},
   "outputs": [],
   "source": [
    "def get_quadrature_nodes(order, mesh):\n",
    "    \"\"\"\n",
    "    \n",
    "    Args:\n",
    "        mesh: A `tenfem.mesh.BaseMesh` object giving the mesh we want\n",
    "          to find the quadrature nodes on.\n",
    "\n",
    "    Returns:\n",
    "        quadrature_nodes: A float `tf.Tensor` of shape\n",
    "         `[mesh.n_elements, n_quadrature_nodes, mesh.spatial_dimension]`\n",
    "         giving the coordinates of the quadrature nodes on the mesh.\n",
    "    \n",
    "    \"\"\"\n",
    "    quad_nodes = np.array(gauss_quad_nodes[order])\n",
    "    element_nodes = tf.gather(mesh.nodes, mesh.elements)\n",
    "    \n",
    "    shape_fn_vals, _ = p1_shape_fn(quad_nodes)\n",
    "    return tf.reduce_sum(element_nodes[..., tf.newaxis, :, :] \n",
    "                         * shape_fn_vals[..., tf.newaxis], axis=-2)"
   ]
  },
  {
   "cell_type": "code",
   "execution_count": 10,
   "metadata": {},
   "outputs": [
    {
     "name": "stdout",
     "output_type": "stream",
     "text": [
      "(4, 3, 1)\n"
     ]
    }
   ],
   "source": [
    "order = 3\n",
    "quad_nodes = get_quadrature_nodes(order, mesh)\n",
    "print(quad_nodes.shape)"
   ]
  },
  {
   "cell_type": "code",
   "execution_count": 11,
   "metadata": {},
   "outputs": [
    {
     "data": {
      "text/plain": [
       "<tf.Tensor: shape=(5, 1), dtype=float64, numpy=\n",
       "array([[-1.3 ],\n",
       "       [-0.85],\n",
       "       [-0.4 ],\n",
       "       [ 0.05],\n",
       "       [ 0.5 ]])>"
      ]
     },
     "execution_count": 11,
     "metadata": {},
     "output_type": "execute_result"
    }
   ],
   "source": [
    "mesh.nodes"
   ]
  },
  {
   "cell_type": "code",
   "execution_count": 12,
   "metadata": {},
   "outputs": [
    {
     "data": {
      "text/plain": [
       "<tf.Tensor: shape=(4, 3, 1), dtype=float64, numpy=\n",
       "array([[[-1.24928425e+00],\n",
       "        [-1.07500000e+00],\n",
       "        [-9.00715749e-01]],\n",
       "\n",
       "       [[-7.99284251e-01],\n",
       "        [-6.25000000e-01],\n",
       "        [-4.50715749e-01]],\n",
       "\n",
       "       [[-3.49284251e-01],\n",
       "        [-1.75000000e-01],\n",
       "        [-7.15749421e-04]],\n",
       "\n",
       "       [[ 1.00715749e-01],\n",
       "        [ 2.75000000e-01],\n",
       "        [ 4.49284251e-01]]])>"
      ]
     },
     "execution_count": 12,
     "metadata": {},
     "output_type": "execute_result"
    }
   ],
   "source": [
    "quad_nodes"
   ]
  },
  {
   "cell_type": "code",
   "execution_count": null,
   "metadata": {},
   "outputs": [],
   "source": []
  }
 ],
 "metadata": {
  "kernelspec": {
   "display_name": "Python (tenfem)",
   "language": "python",
   "name": "tenfem"
  },
  "language_info": {
   "codemirror_mode": {
    "name": "ipython",
    "version": 3
   },
   "file_extension": ".py",
   "mimetype": "text/x-python",
   "name": "python",
   "nbconvert_exporter": "python",
   "pygments_lexer": "ipython3",
   "version": "3.7.6"
  }
 },
 "nbformat": 4,
 "nbformat_minor": 4
}
