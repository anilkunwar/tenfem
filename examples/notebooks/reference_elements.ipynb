{
 "cells": [
  {
   "cell_type": "code",
   "execution_count": 1,
   "metadata": {},
   "outputs": [],
   "source": [
    "import numpy as np\n",
    "import matplotlib.pyplot as plt\n",
    "import tensorflow as tf\n",
    "import tenfem\n",
    "from scipy.integrate import quad"
   ]
  },
  {
   "cell_type": "code",
   "execution_count": 2,
   "metadata": {},
   "outputs": [],
   "source": [
    "tri_mesh = tenfem.mesh.examples.square(2, 2)\n",
    "tri_element = tenfem.reference_elements.TriangleElement(degree=1)\n",
    "# tri_element.get_quadrature_nodes(tri_mesh)"
   ]
  },
  {
   "cell_type": "code",
   "execution_count": 3,
   "metadata": {},
   "outputs": [],
   "source": [
    "n_nodes = 15\n",
    "a, b = -1.3, 0.5\n",
    "nodes = np.linspace(a, b, n_nodes)[:, np.newaxis]\n",
    "elements = np.column_stack((np.arange(0, n_nodes-1), np.arange(1, n_nodes)))\n",
    "boundary_elements = [[0, ], [n_nodes-1, ]]\n",
    "\n",
    "mesh = tenfem.mesh.IntervalMesh(nodes, elements, boundary_elements)"
   ]
  },
  {
   "cell_type": "markdown",
   "metadata": {},
   "source": [
    "# Some words of caution\n",
    "\n",
    "We have taken our reference element to be $[0, 1]$ to easily define the shape functions,\n",
    "but the Gauss quadrature nodes are on the interval therefore over each element\n",
    "we must adjust be the scaling factor \n",
    "\n",
    "$$\n",
    "\\frac{(b_i - a_i)}{2}\n",
    "$$\n",
    "\n",
    "this is automatically taken care of in the `quadrature` method."
   ]
  },
  {
   "cell_type": "code",
   "execution_count": 11,
   "metadata": {},
   "outputs": [],
   "source": [
    "#ref_element = tenfem.reference_elements.IntervalElement(# .get_quadrature_nodes(mesh)\n",
    "ref_element = tenfem.reference_elements.IntervalElement(degree=1, dtype=tf.float64)\n",
    "quad_nodes, quad_weights = ref_element.get_quadrature_nodes_and_weights(mesh)"
   ]
  },
  {
   "cell_type": "code",
   "execution_count": 18,
   "metadata": {},
   "outputs": [
    {
     "name": "stdout",
     "output_type": "stream",
     "text": [
      "-0.7200000000000002 tf.Tensor(-10.079999999999998, shape=(), dtype=float64)\n",
      "tf.Tensor(-0.7200000000000001, shape=(), dtype=float64)\n"
     ]
    }
   ],
   "source": [
    "def f(x):\n",
    "    return x[..., 0]\n",
    "\n",
    "def quadrature(self, f, mesh):\n",
    "    \"\"\" Perform quadrature of a function over the mesh. \n",
    "    \n",
    "    Args:\n",
    "        f: A scalar callable, when evaluated at a mesh node of shape \n",
    "          `[..., spatial_dim]` it should return a `Tensor` of shape\n",
    "          `[..., ]` with the same `dtype` as `mesh.\n",
    "    \n",
    "    Returns\n",
    "        integral: A quadrature approximation to the integral of\n",
    "          f over the mesh.\n",
    "    \"\"\"\n",
    "    quad_nodes, quad_weights = self.get_quadrature_nodes_and_weights(mesh)\n",
    "    f_at_nodes = f(quad_nodes)\n",
    "    volumes = self.get_element_volumes(mesh)\n",
    "    return 0.5 * tf.reduce_sum(f_at_nodes \n",
    "                               * quad_weights\n",
    "                               * volumes[..., tf.newaxis], axis=[-1, -2])\n",
    "    \n",
    "\n",
    "f_at_nodes = f(quad_nodes)\n",
    "quad_integral = tf.reduce_sum(f_at_nodes * quad_weights[...], axis=-1)\n",
    "\n",
    "vols = np.diff(nodes[:, 0])[:, tf.newaxis]\n",
    "\n",
    "quad_integral = tf.reduce_sum(quad_integral * vols) * .5\n",
    "\n",
    "I, err = quad(lambda x: x, a, b)\n",
    "print(I, quad_integral)\n",
    "print(quadrature(ref_element, f, mesh))"
   ]
  },
  {
   "cell_type": "code",
   "execution_count": null,
   "metadata": {},
   "outputs": [],
   "source": [
    "rr = np.linspace(0., 1., 4)"
   ]
  },
  {
   "cell_type": "code",
   "execution_count": null,
   "metadata": {},
   "outputs": [],
   "source": [
    "xx = np.linspace(0., 1.)\n",
    "s, ds = ref_element.shape_function(xx)\n",
    "\n",
    "fig, ax = plt.subplots()\n",
    "ax.plot(xx, s[..., 0], label='$S_1$')\n",
    "ax.plot(xx, s[..., 1], label='$S_2$')\n",
    "ax.legend()\n",
    "plt.show()"
   ]
  },
  {
   "cell_type": "code",
   "execution_count": null,
   "metadata": {},
   "outputs": [],
   "source": []
  }
 ],
 "metadata": {
  "kernelspec": {
   "display_name": "Python (tenfem)",
   "language": "python",
   "name": "tenfem"
  },
  "language_info": {
   "codemirror_mode": {
    "name": "ipython",
    "version": 3
   },
   "file_extension": ".py",
   "mimetype": "text/x-python",
   "name": "python",
   "nbconvert_exporter": "python",
   "pygments_lexer": "ipython3",
   "version": "3.7.6"
  }
 },
 "nbformat": 4,
 "nbformat_minor": 4
}
